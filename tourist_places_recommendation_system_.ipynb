{
  "nbformat": 4,
  "nbformat_minor": 0,
  "metadata": {
    "colab": {
      "name": "tourist places recommendation system .ipynb",
      "provenance": [],
      "collapsed_sections": [],
      "include_colab_link": true
    },
    "kernelspec": {
      "name": "python3",
      "display_name": "Python 3"
    },
    "accelerator": "GPU"
  },
  "cells": [
    {
      "cell_type": "markdown",
      "metadata": {
        "id": "view-in-github",
        "colab_type": "text"
      },
      "source": [
        "<a href=\"https://colab.research.google.com/github/shanajames0808/Tourist-Places-Recommendation-/blob/main/tourist_places_recommendation_system_.ipynb\" target=\"_parent\"><img src=\"https://colab.research.google.com/assets/colab-badge.svg\" alt=\"Open In Colab\"/></a>"
      ]
    },
    {
      "cell_type": "code",
      "metadata": {
        "id": "CRBRIspwJjjl"
      },
      "source": [
        "import requests\n",
        "from bs4 import BeautifulSoup as soup\n",
        "html = requests.get('https://www.tripadvisor.in/Attractions-g297585-Activities-a_allAttractions.true-Andhra_Pradesh.html')"
      ],
      "execution_count": 2,
      "outputs": []
    },
    {
      "cell_type": "code",
      "metadata": {
        "id": "Qx5VWIbkPsNG"
      },
      "source": [
        "bsobj = soup(html.content,'lxml')"
      ],
      "execution_count": 3,
      "outputs": []
    },
    {
      "cell_type": "code",
      "metadata": {
        "id": "cvis_VYfJlMK"
      },
      "source": [
        "andrapradesh_tourist_places = []\n",
        "for name in bsobj.findAll('div',{'class':'_1gpq3zsA _1zP41Z7X'}):\n",
        "  andrapradesh_tourist_places.append(name.text.strip())"
      ],
      "execution_count": 4,
      "outputs": []
    },
    {
      "cell_type": "code",
      "metadata": {
        "id": "ExSrCrvgs886"
      },
      "source": [
        "import re"
      ],
      "execution_count": 5,
      "outputs": []
    },
    {
      "cell_type": "code",
      "metadata": {
        "id": "t1uVUvKHg_dA"
      },
      "source": [
        "andrapradesh_tourist_places123 = []\n",
        "for name in bsobj.findAll('div',{'class':'_1gpq3zsA _1zP41Z7X'}):\n",
        "  name=name.text.strip()\n",
        "  name=re.sub(r'[0-9]+', '', name)\n",
        "  name=re.sub(r'[^a-zA-z] ', '', name)\n",
        "  andrapradesh_tourist_places123.append(name)\n"
      ],
      "execution_count": 17,
      "outputs": []
    },
    {
      "cell_type": "code",
      "metadata": {
        "colab": {
          "base_uri": "https://localhost:8080/"
        },
        "id": "9f1mPe7bJlSl",
        "outputId": "70a8d145-33af-4212-ed95-aa3bb39d70c8"
      },
      "source": [
        "andrapradesh_tourist_places123"
      ],
      "execution_count": 18,
      "outputs": [
        {
          "output_type": "execute_result",
          "data": {
            "text/plain": [
              "['Tirumala Temple',\n",
              " 'Borra Caves',\n",
              " 'INS Kurusura Submarine Museum',\n",
              " 'Kailasagiri',\n",
              " 'Rishikonda Beach',\n",
              " 'Tada Falls',\n",
              " 'Belum Caves',\n",
              " 'Ahobilam Temple',\n",
              " 'Sri Durga Malleswara Swamy Varla Devasthanam',\n",
              " 'Sri Mallikarjuna Swamy Temple',\n",
              " 'Nagalapuram Falls',\n",
              " 'Yarada Beach',\n",
              " 'Godavari Bridge',\n",
              " 'Sri Kapileswaraswami Temple',\n",
              " 'Sri Padmavathi Ammavari Temple',\n",
              " 'Rama Krishna Beach',\n",
              " 'Horsley Hills',\n",
              " 'Penchalakona Temple',\n",
              " 'Yaganti Temple',\n",
              " 'Srivari Mettu',\n",
              " 'Coringa Wildlife Sanctuary',\n",
              " 'Pushkar Ghat',\n",
              " 'Sri Ranganathaswamy Temple',\n",
              " 'Araku Valley',\n",
              " 'Srikalahasthi Temple',\n",
              " \"Dolphin's Nose\",\n",
              " 'MGB Felicity Mall',\n",
              " 'ISKCON RajahmundrySri Sri Radha Gopinath Temple',\n",
              " 'Gandikota Fort',\n",
              " 'Jillellamudi Amma Temple']"
            ]
          },
          "metadata": {
            "tags": []
          },
          "execution_count": 18
        }
      ]
    },
    {
      "cell_type": "code",
      "metadata": {
        "id": "BEcmu3-VJldQ"
      },
      "source": [
        "andrapradesh_genre = []\n",
        "for name in bsobj.findAll('div',{'class':'DrjyGw-P _26S7gyB4 _3SccQt-T'}):\n",
        "  andrapradesh_genre.append(name.text.strip())"
      ],
      "execution_count": 24,
      "outputs": []
    },
    {
      "cell_type": "code",
      "metadata": {
        "id": "alpPmYL4JllM"
      },
      "source": [
        "l=[]\n",
        "for t in andrapradesh_genre:\n",
        "  if (((len(t))<=18) and t!=\"Open now\"):\n",
        "    l.append(t)"
      ],
      "execution_count": 25,
      "outputs": []
    },
    {
      "cell_type": "code",
      "metadata": {
        "colab": {
          "base_uri": "https://localhost:8080/"
        },
        "id": "Vqtk5H4uZSws",
        "outputId": "f1f1ab92-c1b0-4a3c-b234-9d4f17c2dcaa"
      },
      "source": [
        "l"
      ],
      "execution_count": 26,
      "outputs": [
        {
          "output_type": "execute_result",
          "data": {
            "text/plain": [
              "['Caverns & Caves',\n",
              " 'Speciality Museums',\n",
              " 'Parks',\n",
              " 'Beaches',\n",
              " 'Caverns & Caves',\n",
              " 'Religious Sites',\n",
              " 'Religious Sites',\n",
              " 'Religious Sites',\n",
              " 'Waterfalls',\n",
              " 'Beaches',\n",
              " 'Religious Sites',\n",
              " 'Religious Sites',\n",
              " 'Beaches',\n",
              " 'Religious Sites',\n",
              " 'Religious Sites',\n",
              " 'Religious Sites',\n",
              " 'Religious Sites',\n",
              " 'Valleys',\n",
              " 'Religious Sites',\n",
              " 'Shopping Malls',\n",
              " 'Religious Sites',\n",
              " 'Religious Sites']"
            ]
          },
          "metadata": {
            "tags": []
          },
          "execution_count": 26
        }
      ]
    },
    {
      "cell_type": "code",
      "metadata": {
        "id": "pammY5pRJltA"
      },
      "source": [
        "ap_loc=[\n",
        "        'Religious Sites',\n",
        "        'Caverns & Caves',\n",
        "        'Speciality Museums',\n",
        "        'Parks',\n",
        "        'Beaches',\n",
        "        'Waterfalls',\n",
        "        'Caverns & Caves',\n",
        "        'Religious Sites',\n",
        "        'Religious Sites',\n",
        "        'Religious Sites',\n",
        "        'Waterfalls',\n",
        "        'Beaches',\n",
        "        'Bridges',\n",
        "        'Religious Sites',\n",
        "        'Religious Sites',\n",
        "        'Beaches',\n",
        "        'hills',\n",
        "        'Religious Sites',\n",
        "        'Religious Sites',\n",
        "        'Religious Sites',\n",
        "        'Wildlife areas',\n",
        "        'Religious Sites',\n",
        "        'Religious Sites',\n",
        "        'Valleys',\n",
        "        'Religious Sites',\n",
        "        'Landmarks',\n",
        "        'Shopping Malls',\n",
        "        'Religious Sites',\n",
        "        'landmark',\n",
        "        'Religious Sites']"
      ],
      "execution_count": 27,
      "outputs": []
    },
    {
      "cell_type": "code",
      "metadata": {
        "id": "brTaFXc7Jl0L"
      },
      "source": [
        "df_AndraPradesh = {\"Tourist Places\" : andrapradesh_tourist_places123,'Genre' : ap_loc}"
      ],
      "execution_count": 28,
      "outputs": []
    },
    {
      "cell_type": "code",
      "metadata": {
        "id": "0uPHrtmEJl8J"
      },
      "source": [
        "import pandas as pd"
      ],
      "execution_count": 29,
      "outputs": []
    },
    {
      "cell_type": "code",
      "metadata": {
        "id": "BYgo_b3HJmDh"
      },
      "source": [
        "DF_AndraPradesh=pd.DataFrame.from_dict(df_AndraPradesh)"
      ],
      "execution_count": 30,
      "outputs": []
    },
    {
      "cell_type": "code",
      "metadata": {
        "colab": {
          "base_uri": "https://localhost:8080/",
          "height": 979
        },
        "id": "m_akEzaxcAzF",
        "outputId": "19475e35-12c1-4dad-add5-7983a2d86e35"
      },
      "source": [
        "DF_AndraPradesh"
      ],
      "execution_count": 31,
      "outputs": [
        {
          "output_type": "execute_result",
          "data": {
            "text/html": [
              "<div>\n",
              "<style scoped>\n",
              "    .dataframe tbody tr th:only-of-type {\n",
              "        vertical-align: middle;\n",
              "    }\n",
              "\n",
              "    .dataframe tbody tr th {\n",
              "        vertical-align: top;\n",
              "    }\n",
              "\n",
              "    .dataframe thead th {\n",
              "        text-align: right;\n",
              "    }\n",
              "</style>\n",
              "<table border=\"1\" class=\"dataframe\">\n",
              "  <thead>\n",
              "    <tr style=\"text-align: right;\">\n",
              "      <th></th>\n",
              "      <th>Tourist Places</th>\n",
              "      <th>Genre</th>\n",
              "    </tr>\n",
              "  </thead>\n",
              "  <tbody>\n",
              "    <tr>\n",
              "      <th>0</th>\n",
              "      <td>Tirumala Temple</td>\n",
              "      <td>Religious Sites</td>\n",
              "    </tr>\n",
              "    <tr>\n",
              "      <th>1</th>\n",
              "      <td>Borra Caves</td>\n",
              "      <td>Caverns &amp; Caves</td>\n",
              "    </tr>\n",
              "    <tr>\n",
              "      <th>2</th>\n",
              "      <td>INS Kurusura Submarine Museum</td>\n",
              "      <td>Speciality Museums</td>\n",
              "    </tr>\n",
              "    <tr>\n",
              "      <th>3</th>\n",
              "      <td>Kailasagiri</td>\n",
              "      <td>Parks</td>\n",
              "    </tr>\n",
              "    <tr>\n",
              "      <th>4</th>\n",
              "      <td>Rishikonda Beach</td>\n",
              "      <td>Beaches</td>\n",
              "    </tr>\n",
              "    <tr>\n",
              "      <th>5</th>\n",
              "      <td>Tada Falls</td>\n",
              "      <td>Waterfalls</td>\n",
              "    </tr>\n",
              "    <tr>\n",
              "      <th>6</th>\n",
              "      <td>Belum Caves</td>\n",
              "      <td>Caverns &amp; Caves</td>\n",
              "    </tr>\n",
              "    <tr>\n",
              "      <th>7</th>\n",
              "      <td>Ahobilam Temple</td>\n",
              "      <td>Religious Sites</td>\n",
              "    </tr>\n",
              "    <tr>\n",
              "      <th>8</th>\n",
              "      <td>Sri Durga Malleswara Swamy Varla Devasthanam</td>\n",
              "      <td>Religious Sites</td>\n",
              "    </tr>\n",
              "    <tr>\n",
              "      <th>9</th>\n",
              "      <td>Sri Mallikarjuna Swamy Temple</td>\n",
              "      <td>Religious Sites</td>\n",
              "    </tr>\n",
              "    <tr>\n",
              "      <th>10</th>\n",
              "      <td>Nagalapuram Falls</td>\n",
              "      <td>Waterfalls</td>\n",
              "    </tr>\n",
              "    <tr>\n",
              "      <th>11</th>\n",
              "      <td>Yarada Beach</td>\n",
              "      <td>Beaches</td>\n",
              "    </tr>\n",
              "    <tr>\n",
              "      <th>12</th>\n",
              "      <td>Godavari Bridge</td>\n",
              "      <td>Bridges</td>\n",
              "    </tr>\n",
              "    <tr>\n",
              "      <th>13</th>\n",
              "      <td>Sri Kapileswaraswami Temple</td>\n",
              "      <td>Religious Sites</td>\n",
              "    </tr>\n",
              "    <tr>\n",
              "      <th>14</th>\n",
              "      <td>Sri Padmavathi Ammavari Temple</td>\n",
              "      <td>Religious Sites</td>\n",
              "    </tr>\n",
              "    <tr>\n",
              "      <th>15</th>\n",
              "      <td>Rama Krishna Beach</td>\n",
              "      <td>Beaches</td>\n",
              "    </tr>\n",
              "    <tr>\n",
              "      <th>16</th>\n",
              "      <td>Horsley Hills</td>\n",
              "      <td>hills</td>\n",
              "    </tr>\n",
              "    <tr>\n",
              "      <th>17</th>\n",
              "      <td>Penchalakona Temple</td>\n",
              "      <td>Religious Sites</td>\n",
              "    </tr>\n",
              "    <tr>\n",
              "      <th>18</th>\n",
              "      <td>Yaganti Temple</td>\n",
              "      <td>Religious Sites</td>\n",
              "    </tr>\n",
              "    <tr>\n",
              "      <th>19</th>\n",
              "      <td>Srivari Mettu</td>\n",
              "      <td>Religious Sites</td>\n",
              "    </tr>\n",
              "    <tr>\n",
              "      <th>20</th>\n",
              "      <td>Coringa Wildlife Sanctuary</td>\n",
              "      <td>Wildlife areas</td>\n",
              "    </tr>\n",
              "    <tr>\n",
              "      <th>21</th>\n",
              "      <td>Pushkar Ghat</td>\n",
              "      <td>Religious Sites</td>\n",
              "    </tr>\n",
              "    <tr>\n",
              "      <th>22</th>\n",
              "      <td>Sri Ranganathaswamy Temple</td>\n",
              "      <td>Religious Sites</td>\n",
              "    </tr>\n",
              "    <tr>\n",
              "      <th>23</th>\n",
              "      <td>Araku Valley</td>\n",
              "      <td>Valleys</td>\n",
              "    </tr>\n",
              "    <tr>\n",
              "      <th>24</th>\n",
              "      <td>Srikalahasthi Temple</td>\n",
              "      <td>Religious Sites</td>\n",
              "    </tr>\n",
              "    <tr>\n",
              "      <th>25</th>\n",
              "      <td>Dolphin's Nose</td>\n",
              "      <td>Landmarks</td>\n",
              "    </tr>\n",
              "    <tr>\n",
              "      <th>26</th>\n",
              "      <td>MGB Felicity Mall</td>\n",
              "      <td>Shopping Malls</td>\n",
              "    </tr>\n",
              "    <tr>\n",
              "      <th>27</th>\n",
              "      <td>ISKCON RajahmundrySri Sri Radha Gopinath Temple</td>\n",
              "      <td>Religious Sites</td>\n",
              "    </tr>\n",
              "    <tr>\n",
              "      <th>28</th>\n",
              "      <td>Gandikota Fort</td>\n",
              "      <td>landmark</td>\n",
              "    </tr>\n",
              "    <tr>\n",
              "      <th>29</th>\n",
              "      <td>Jillellamudi Amma Temple</td>\n",
              "      <td>Religious Sites</td>\n",
              "    </tr>\n",
              "  </tbody>\n",
              "</table>\n",
              "</div>"
            ],
            "text/plain": [
              "                                     Tourist Places               Genre\n",
              "0                                   Tirumala Temple     Religious Sites\n",
              "1                                       Borra Caves     Caverns & Caves\n",
              "2                     INS Kurusura Submarine Museum  Speciality Museums\n",
              "3                                       Kailasagiri               Parks\n",
              "4                                  Rishikonda Beach             Beaches\n",
              "5                                        Tada Falls          Waterfalls\n",
              "6                                       Belum Caves     Caverns & Caves\n",
              "7                                   Ahobilam Temple     Religious Sites\n",
              "8      Sri Durga Malleswara Swamy Varla Devasthanam     Religious Sites\n",
              "9                     Sri Mallikarjuna Swamy Temple     Religious Sites\n",
              "10                                Nagalapuram Falls          Waterfalls\n",
              "11                                     Yarada Beach             Beaches\n",
              "12                                  Godavari Bridge             Bridges\n",
              "13                      Sri Kapileswaraswami Temple     Religious Sites\n",
              "14                   Sri Padmavathi Ammavari Temple     Religious Sites\n",
              "15                               Rama Krishna Beach             Beaches\n",
              "16                                    Horsley Hills               hills\n",
              "17                              Penchalakona Temple     Religious Sites\n",
              "18                                   Yaganti Temple     Religious Sites\n",
              "19                                    Srivari Mettu     Religious Sites\n",
              "20                       Coringa Wildlife Sanctuary      Wildlife areas\n",
              "21                                     Pushkar Ghat     Religious Sites\n",
              "22                       Sri Ranganathaswamy Temple     Religious Sites\n",
              "23                                     Araku Valley             Valleys\n",
              "24                             Srikalahasthi Temple     Religious Sites\n",
              "25                                   Dolphin's Nose           Landmarks\n",
              "26                                MGB Felicity Mall      Shopping Malls\n",
              "27  ISKCON RajahmundrySri Sri Radha Gopinath Temple     Religious Sites\n",
              "28                                   Gandikota Fort            landmark\n",
              "29                         Jillellamudi Amma Temple     Religious Sites"
            ]
          },
          "metadata": {
            "tags": []
          },
          "execution_count": 31
        }
      ]
    },
    {
      "cell_type": "markdown",
      "metadata": {
        "id": "fxR4RWIYrFfk"
      },
      "source": [
        "# ***Arunachal Pradesh***"
      ]
    },
    {
      "cell_type": "code",
      "metadata": {
        "id": "tttVrogHJm2Y"
      },
      "source": [
        "html = requests.get('https://www.tripadvisor.in/Attractions-g297589-Activities-a_allAttractions.true-Arunachal_Pradesh.html')"
      ],
      "execution_count": 32,
      "outputs": []
    },
    {
      "cell_type": "code",
      "metadata": {
        "id": "iU_n51AwJm7m"
      },
      "source": [
        "html.status_code\n",
        "bsobj=soup(html.content,'lxml')"
      ],
      "execution_count": 33,
      "outputs": []
    },
    {
      "cell_type": "code",
      "metadata": {
        "id": "M3ZIkFpPJnJw"
      },
      "source": [
        "ArunachalPradesh_tourist_places1 = []\n",
        "for name in bsobj.findAll('div',{'class':'_1gpq3zsA _1zP41Z7X'}):\n",
        "  name=name.text.strip()\n",
        "  name=re.sub(r'[0-9]+', '', name)\n",
        "  name=re.sub(r'[^a-zA-z] ', '', name)\n",
        "  ArunachalPradesh_tourist_places1.append(name)"
      ],
      "execution_count": 34,
      "outputs": []
    },
    {
      "cell_type": "code",
      "metadata": {
        "id": "sh9sFbmx09wA",
        "colab": {
          "base_uri": "https://localhost:8080/"
        },
        "outputId": "72f1ef33-3332-4c1a-d9f8-2934ee59ce58"
      },
      "source": [
        "ArunachalPradesh_tourist_places1"
      ],
      "execution_count": 35,
      "outputs": [
        {
          "output_type": "execute_result",
          "data": {
            "text/plain": [
              "['Sela Pass',\n",
              " 'Bumla Pass',\n",
              " 'Pangsau Pass',\n",
              " 'Madhuri Lake',\n",
              " 'Mehao Wildlife Sanctuary',\n",
              " 'Mechuka Valley',\n",
              " 'Mehao Lake',\n",
              " 'Mayodiya Pass',\n",
              " 'Bomdila Monastery',\n",
              " 'Tawang Buddhist Monastery',\n",
              " 'Sangti Valley',\n",
              " 'Jaswant Garh',\n",
              " 'Sally Lake',\n",
              " 'Nuranang Falls',\n",
              " 'Gompa',\n",
              " 'Dihang Biosphere Reserve',\n",
              " 'The Golden Pagoda',\n",
              " 'Nehru Van Udyan',\n",
              " 'Parashuram Kunda',\n",
              " 'Nijomaghat',\n",
              " 'Tawang War Memorial',\n",
              " 'Talley Valley Wildlife Sanctuary',\n",
              " 'Sirki Waterfall',\n",
              " 'Rukmini Nati',\n",
              " 'Iphipani Ghat',\n",
              " 'Pangateng Tso Lake',\n",
              " 'Stilwell Road',\n",
              " 'Daying Ering Wildlife Sanctuary',\n",
              " 'Ganga Lake',\n",
              " 'Kampona Pond']"
            ]
          },
          "metadata": {
            "tags": []
          },
          "execution_count": 35
        }
      ]
    },
    {
      "cell_type": "code",
      "metadata": {
        "id": "o2L5JDqU1Ce-"
      },
      "source": [
        "temp_genre = []\n",
        "for name in bsobj.findAll('div',{'class':'DrjyGw-P _26S7gyB4 _3SccQt-T'}):\n",
        "  temp_genre.append(name.text.strip())"
      ],
      "execution_count": 36,
      "outputs": []
    },
    {
      "cell_type": "code",
      "metadata": {
        "colab": {
          "base_uri": "https://localhost:8080/"
        },
        "id": "pgRMJJeas_nD",
        "outputId": "464b7e4f-120c-4efa-a70a-ec9bb3cf9407"
      },
      "source": [
        "temp_genre"
      ],
      "execution_count": 37,
      "outputs": [
        {
          "output_type": "execute_result",
          "data": {
            "text/plain": [
              "['Things to do ranked using Tripadvisor data including reviews, ratings, photos, and popularity.',\n",
              " 'Highest rated attractions on Tripadvisor, based on traveller reviews.',\n",
              " 'Bodies of Water',\n",
              " 'Picturesque view of the Sela lake Enroute Tawang you may also wish to stop at the JaswantGarh War Memorial where you...',\n",
              " 'Hiking Trails',\n",
              " 'Bumla Pass is located 37 km away from Tawang at the Indo-China border.',\n",
              " 'Historic Walking Areas',\n",
              " 'Bodies of Water',\n",
              " 'Now you understand why there are dead tree trunks coming out of the lake.',\n",
              " 'Nature & Wildlife Areas',\n",
              " 'Valleys',\n",
              " 'Bodies of Water',\n",
              " 'Points of Interest & Landmarks',\n",
              " 'Architectural Buildings • Religious Sites',\n",
              " 'The Monastery celebrates it’s annual Mask Dance festival, and the colour of demons with dramatic musical background s...',\n",
              " 'Religious Sites',\n",
              " 'The buddha statue is just fabulous andbeautiful inside the monastery.',\n",
              " 'Valleys',\n",
              " 'It is a drive through place, where you drive through the valley and enjoy the serene view of the beautiful valley - l...',\n",
              " 'Historic Sites',\n",
              " 'They can very well relate themselves to rifleman Jaswant Singh, who laid down his life during the Indo-Chinese War.',\n",
              " 'Bodies of Water',\n",
              " 'Waterfalls',\n",
              " 'Beautiful waterfall',\n",
              " 'Points of Interest & Landmarks',\n",
              " 'It is the most peaceful and serene place to visit in Itanagar.',\n",
              " 'Points of Interest & Landmarks',\n",
              " 'Points of Interest & Landmarks • Religious Sites',\n",
              " 'A must visit place of Arunachal Pradesh.',\n",
              " 'Parks',\n",
              " 'Religious Sites',\n",
              " 'Parks',\n",
              " 'Monuments & Statues',\n",
              " 'Please do see the light and sound show organised by the army at the backyard of the memorial.',\n",
              " 'Nature & Wildlife Areas',\n",
              " 'Waterfalls',\n",
              " 'Ancient Ruins',\n",
              " 'Points of Interest & Landmarks • Lookouts',\n",
              " 'Bodies of Water',\n",
              " 'This entire trip beyond Tawang to Bumla and Madhuri Lake is just too exciting and breath taking, it leaves you desiri...',\n",
              " 'Historic Walking Areas',\n",
              " 'Named after the US General, this road was built during World War II from India to China.',\n",
              " 'Nature & Wildlife Areas',\n",
              " 'Bodies of Water',\n",
              " 'Bodies of Water',\n",
              " 'Showing results 1-30 of 103']"
            ]
          },
          "metadata": {
            "tags": []
          },
          "execution_count": 37
        }
      ]
    },
    {
      "cell_type": "code",
      "metadata": {
        "id": "enE5zPcJsOHv"
      },
      "source": [
        "ArunachalPradesh_genre= []\n",
        "for t in temp_genre:\n",
        "  if (((len(t))<=30) and t!=\"Open now\"):\n",
        "    ArunachalPradesh_genre.append(t)"
      ],
      "execution_count": 38,
      "outputs": []
    },
    {
      "cell_type": "code",
      "metadata": {
        "id": "f4cV0KC0sQm1"
      },
      "source": [
        "ArunachalPradesh_genre=['Bodies of Water',\n",
        " 'Hiking Trails',\n",
        " 'Historic Walking Areas',\n",
        " 'Bodies of Water',\n",
        " 'Nature and Wildlife Areas',\n",
        " 'Valleys',\n",
        " 'Bodies of Water',\n",
        " 'Points of Interest and Landmarks',\n",
        " 'Religious Sites',\n",
        " 'Religious Sites',\n",
        " 'Valleys',\n",
        " 'Historic Sites',\n",
        " 'Bodies of Water',\n",
        " 'Waterfalls',\n",
        " 'Beautiful waterfall',\n",
        " 'Points of Interest and Landmarks',\n",
        " 'Points of Interest and Landmarks',\n",
        " 'Points of Interest and Landmarks',\n",
        " 'Parks',\n",
        " 'Religious Sites',\n",
        " 'Parks',\n",
        " 'Monuments & Statues',\n",
        " 'Nature & Wildlife Areas',\n",
        " 'Waterfalls',\n",
        " 'Ancient Ruins',\n",
        " 'Points of Interest and Landmarks',\n",
        " 'Bodies of Water',\n",
        " 'Historic Walking Areas',\n",
        " 'Nature and Wildlife Areas',\n",
        " 'Bodies of Water',\n",
        " 'Bodies of Water',]"
      ],
      "execution_count": 39,
      "outputs": []
    },
    {
      "cell_type": "code",
      "metadata": {
        "id": "fNe8c9I8vrF8"
      },
      "source": [
        "df_ArunachalPradesh = {\"Tourist Places\" : ArunachalPradesh_tourist_places1,'Genre' : ap_loc}\n",
        "DF_ArunachalPradesh=pd.DataFrame.from_dict(df_ArunachalPradesh)"
      ],
      "execution_count": 40,
      "outputs": []
    },
    {
      "cell_type": "code",
      "metadata": {
        "colab": {
          "base_uri": "https://localhost:8080/",
          "height": 979
        },
        "id": "FK4ajknqv9IM",
        "outputId": "5a7a7805-b717-4304-dc34-ca68d7f6007a"
      },
      "source": [
        "DF_ArunachalPradesh"
      ],
      "execution_count": 41,
      "outputs": [
        {
          "output_type": "execute_result",
          "data": {
            "text/html": [
              "<div>\n",
              "<style scoped>\n",
              "    .dataframe tbody tr th:only-of-type {\n",
              "        vertical-align: middle;\n",
              "    }\n",
              "\n",
              "    .dataframe tbody tr th {\n",
              "        vertical-align: top;\n",
              "    }\n",
              "\n",
              "    .dataframe thead th {\n",
              "        text-align: right;\n",
              "    }\n",
              "</style>\n",
              "<table border=\"1\" class=\"dataframe\">\n",
              "  <thead>\n",
              "    <tr style=\"text-align: right;\">\n",
              "      <th></th>\n",
              "      <th>Tourist Places</th>\n",
              "      <th>Genre</th>\n",
              "    </tr>\n",
              "  </thead>\n",
              "  <tbody>\n",
              "    <tr>\n",
              "      <th>0</th>\n",
              "      <td>Sela Pass</td>\n",
              "      <td>Religious Sites</td>\n",
              "    </tr>\n",
              "    <tr>\n",
              "      <th>1</th>\n",
              "      <td>Bumla Pass</td>\n",
              "      <td>Caverns &amp; Caves</td>\n",
              "    </tr>\n",
              "    <tr>\n",
              "      <th>2</th>\n",
              "      <td>Pangsau Pass</td>\n",
              "      <td>Speciality Museums</td>\n",
              "    </tr>\n",
              "    <tr>\n",
              "      <th>3</th>\n",
              "      <td>Madhuri Lake</td>\n",
              "      <td>Parks</td>\n",
              "    </tr>\n",
              "    <tr>\n",
              "      <th>4</th>\n",
              "      <td>Mehao Wildlife Sanctuary</td>\n",
              "      <td>Beaches</td>\n",
              "    </tr>\n",
              "    <tr>\n",
              "      <th>5</th>\n",
              "      <td>Mechuka Valley</td>\n",
              "      <td>Waterfalls</td>\n",
              "    </tr>\n",
              "    <tr>\n",
              "      <th>6</th>\n",
              "      <td>Mehao Lake</td>\n",
              "      <td>Caverns &amp; Caves</td>\n",
              "    </tr>\n",
              "    <tr>\n",
              "      <th>7</th>\n",
              "      <td>Mayodiya Pass</td>\n",
              "      <td>Religious Sites</td>\n",
              "    </tr>\n",
              "    <tr>\n",
              "      <th>8</th>\n",
              "      <td>Bomdila Monastery</td>\n",
              "      <td>Religious Sites</td>\n",
              "    </tr>\n",
              "    <tr>\n",
              "      <th>9</th>\n",
              "      <td>Tawang Buddhist Monastery</td>\n",
              "      <td>Religious Sites</td>\n",
              "    </tr>\n",
              "    <tr>\n",
              "      <th>10</th>\n",
              "      <td>Sangti Valley</td>\n",
              "      <td>Waterfalls</td>\n",
              "    </tr>\n",
              "    <tr>\n",
              "      <th>11</th>\n",
              "      <td>Jaswant Garh</td>\n",
              "      <td>Beaches</td>\n",
              "    </tr>\n",
              "    <tr>\n",
              "      <th>12</th>\n",
              "      <td>Sally Lake</td>\n",
              "      <td>Bridges</td>\n",
              "    </tr>\n",
              "    <tr>\n",
              "      <th>13</th>\n",
              "      <td>Nuranang Falls</td>\n",
              "      <td>Religious Sites</td>\n",
              "    </tr>\n",
              "    <tr>\n",
              "      <th>14</th>\n",
              "      <td>Gompa</td>\n",
              "      <td>Religious Sites</td>\n",
              "    </tr>\n",
              "    <tr>\n",
              "      <th>15</th>\n",
              "      <td>Dihang Biosphere Reserve</td>\n",
              "      <td>Beaches</td>\n",
              "    </tr>\n",
              "    <tr>\n",
              "      <th>16</th>\n",
              "      <td>The Golden Pagoda</td>\n",
              "      <td>hills</td>\n",
              "    </tr>\n",
              "    <tr>\n",
              "      <th>17</th>\n",
              "      <td>Nehru Van Udyan</td>\n",
              "      <td>Religious Sites</td>\n",
              "    </tr>\n",
              "    <tr>\n",
              "      <th>18</th>\n",
              "      <td>Parashuram Kunda</td>\n",
              "      <td>Religious Sites</td>\n",
              "    </tr>\n",
              "    <tr>\n",
              "      <th>19</th>\n",
              "      <td>Nijomaghat</td>\n",
              "      <td>Religious Sites</td>\n",
              "    </tr>\n",
              "    <tr>\n",
              "      <th>20</th>\n",
              "      <td>Tawang War Memorial</td>\n",
              "      <td>Wildlife areas</td>\n",
              "    </tr>\n",
              "    <tr>\n",
              "      <th>21</th>\n",
              "      <td>Talley Valley Wildlife Sanctuary</td>\n",
              "      <td>Religious Sites</td>\n",
              "    </tr>\n",
              "    <tr>\n",
              "      <th>22</th>\n",
              "      <td>Sirki Waterfall</td>\n",
              "      <td>Religious Sites</td>\n",
              "    </tr>\n",
              "    <tr>\n",
              "      <th>23</th>\n",
              "      <td>Rukmini Nati</td>\n",
              "      <td>Valleys</td>\n",
              "    </tr>\n",
              "    <tr>\n",
              "      <th>24</th>\n",
              "      <td>Iphipani Ghat</td>\n",
              "      <td>Religious Sites</td>\n",
              "    </tr>\n",
              "    <tr>\n",
              "      <th>25</th>\n",
              "      <td>Pangateng Tso Lake</td>\n",
              "      <td>Landmarks</td>\n",
              "    </tr>\n",
              "    <tr>\n",
              "      <th>26</th>\n",
              "      <td>Stilwell Road</td>\n",
              "      <td>Shopping Malls</td>\n",
              "    </tr>\n",
              "    <tr>\n",
              "      <th>27</th>\n",
              "      <td>Daying Ering Wildlife Sanctuary</td>\n",
              "      <td>Religious Sites</td>\n",
              "    </tr>\n",
              "    <tr>\n",
              "      <th>28</th>\n",
              "      <td>Ganga Lake</td>\n",
              "      <td>landmark</td>\n",
              "    </tr>\n",
              "    <tr>\n",
              "      <th>29</th>\n",
              "      <td>Kampona Pond</td>\n",
              "      <td>Religious Sites</td>\n",
              "    </tr>\n",
              "  </tbody>\n",
              "</table>\n",
              "</div>"
            ],
            "text/plain": [
              "                      Tourist Places               Genre\n",
              "0                          Sela Pass     Religious Sites\n",
              "1                         Bumla Pass     Caverns & Caves\n",
              "2                       Pangsau Pass  Speciality Museums\n",
              "3                       Madhuri Lake               Parks\n",
              "4           Mehao Wildlife Sanctuary             Beaches\n",
              "5                     Mechuka Valley          Waterfalls\n",
              "6                         Mehao Lake     Caverns & Caves\n",
              "7                      Mayodiya Pass     Religious Sites\n",
              "8                  Bomdila Monastery     Religious Sites\n",
              "9          Tawang Buddhist Monastery     Religious Sites\n",
              "10                     Sangti Valley          Waterfalls\n",
              "11                      Jaswant Garh             Beaches\n",
              "12                        Sally Lake             Bridges\n",
              "13                    Nuranang Falls     Religious Sites\n",
              "14                             Gompa     Religious Sites\n",
              "15          Dihang Biosphere Reserve             Beaches\n",
              "16                 The Golden Pagoda               hills\n",
              "17                   Nehru Van Udyan     Religious Sites\n",
              "18                  Parashuram Kunda     Religious Sites\n",
              "19                        Nijomaghat     Religious Sites\n",
              "20               Tawang War Memorial      Wildlife areas\n",
              "21  Talley Valley Wildlife Sanctuary     Religious Sites\n",
              "22                   Sirki Waterfall     Religious Sites\n",
              "23                      Rukmini Nati             Valleys\n",
              "24                     Iphipani Ghat     Religious Sites\n",
              "25                Pangateng Tso Lake           Landmarks\n",
              "26                     Stilwell Road      Shopping Malls\n",
              "27   Daying Ering Wildlife Sanctuary     Religious Sites\n",
              "28                        Ganga Lake            landmark\n",
              "29                      Kampona Pond     Religious Sites"
            ]
          },
          "metadata": {
            "tags": []
          },
          "execution_count": 41
        }
      ]
    },
    {
      "cell_type": "markdown",
      "metadata": {
        "id": "hS9K_j7LwKCd"
      },
      "source": [
        "# ***Assam***"
      ]
    },
    {
      "cell_type": "code",
      "metadata": {
        "id": "4uFTBHajwJm4"
      },
      "source": [
        "\n",
        "\n",
        "# html = requests.get('https://www.tripadvisor.in/Attractions-g297589-Activities-a_allAttractions.true-Arunachal_Pradesh.html')\n",
        "# html.status_code\n",
        "# bsobj=soup(html.content,'lxml')\n",
        "# # ---------------------------------------------------------------------------------------------------------------------------------------------------\n",
        "# # ---------------------------------------------------------------------------------------------------------------------------------------------------\n",
        "# ArunachalPradesh_tourist_places1 = []\n",
        "# for name in bsobj.findAll('div',{'class':'_1gpq3zsA _1zP41Z7X'}):\n",
        "#   name=name.text.strip()\n",
        "#   name=re.sub(r'[^a-zA-z] ', '', name)\n",
        "#   ArunachalPradesh_tourist_places1.append(name)\n",
        "# # ---------------------------------------------------------------------------------------------------------------------------------------------------\n",
        "# # ---------------------------------------------------------------------------------------------------------------------------------------------------\n",
        "# temp_genre = []\n",
        "# for name in bsobj.findAll('div',{'class':'DrjyGw-P _26S7gyB4 _3SccQt-T'}):\n",
        "#   temp_genre.append(name.text.strip())\n",
        "# # ---------------------------------------------------------------------------------------------------------------------------------------------------\n",
        "# # ---------------------------------------------------------------------------------------------------------------------------------------------------\n",
        "# ArunachalPradesh_genre= []\n",
        "# for t in temp_genre:\n",
        "#   if (((len(t))<=30) and t!=\"Open now\"):\n",
        "#     ArunachalPradesh_genre.append(t)\n",
        "# # ---------------------------------------------------------------------------------------------------------------------------------------------------\n",
        "# # ---------------------------------------------------------------------------------------------------------------------------------------------------\n",
        "# df_ArunachalPradesh = {\"Tourist Places\" : ArunachalPradesh_tourist_places1,'Genre' : ap_loc}\n",
        "# DF_ArunachalPradesh=pd.DataFrame.from_dict(df_ArunachalPradesh)"
      ],
      "execution_count": 42,
      "outputs": []
    },
    {
      "cell_type": "code",
      "metadata": {
        "id": "wQAnZ516xmZ0"
      },
      "source": [
        "html = requests.get('https://www.tripadvisor.in/Attractions-g297590-Activities-a_allAttractions.true-Assam.html')\n",
        "html.status_code\n",
        "bsobj=soup(html.content,'lxml')"
      ],
      "execution_count": 43,
      "outputs": []
    },
    {
      "cell_type": "code",
      "metadata": {
        "id": "AOO1igK_yEtI"
      },
      "source": [
        "Assam_tourist_places1 = []\n",
        "for name in bsobj.findAll('div',{'class':'_1gpq3zsA _1zP41Z7X'}):\n",
        "  name=name.text.strip()\n",
        "  name=re.sub(r'[0-9]+', '', name)\n",
        "  name=re.sub(r'[^a-zA-z] ', '', name)\n",
        "  Assam_tourist_places1.append(name)"
      ],
      "execution_count": 47,
      "outputs": []
    },
    {
      "cell_type": "code",
      "metadata": {
        "colab": {
          "base_uri": "https://localhost:8080/"
        },
        "id": "Fr9uvIpEyNS9",
        "outputId": "215ce064-7d90-4c01-fac8-f2fb7b30d255"
      },
      "source": [
        "Assam_tourist_places1"
      ],
      "execution_count": 48,
      "outputs": [
        {
          "output_type": "execute_result",
          "data": {
            "text/plain": [
              "['Kamakhya Temple',\n",
              " 'Pobitora Wildlife Sanctuary',\n",
              " 'Umananda Temple',\n",
              " 'Brahmaputra River',\n",
              " 'Purva Tirupati Shri Balaji temple',\n",
              " 'Hoollongapar Gibbon Sanctuary',\n",
              " 'Chitralekha Udyan',\n",
              " 'Kalia Bhomora Setu',\n",
              " 'Agnigarh Hill',\n",
              " 'Nag-Sankar Temple',\n",
              " 'Mahabhairab Temple',\n",
              " 'Tocklai Tea Research Centre',\n",
              " 'Bhupen Hazarika Setu Dhola-Sadiya Bridge',\n",
              " 'National Institute of TechnologySilchar',\n",
              " 'Assam State Zoo',\n",
              " 'Fancy Bazar',\n",
              " 'Dhekiajuli',\n",
              " 'Jagannath Temple',\n",
              " 'Saraighat Bridge',\n",
              " 'Panimur Waterfalls',\n",
              " 'Bogibeel Bridge',\n",
              " 'Jaysagar Tank and Temples',\n",
              " 'Sivasagar Pond',\n",
              " 'Navagraha Temple',\n",
              " 'Shrimanta Shankardeva Kalakshetra',\n",
              " 'Sri Kancha Kanti Devi Mandir',\n",
              " 'Regional Science Center',\n",
              " 'Kaziranga National Park',\n",
              " 'ISKCON Guwahati',\n",
              " 'Kachari Fort']"
            ]
          },
          "metadata": {
            "tags": []
          },
          "execution_count": 48
        }
      ]
    },
    {
      "cell_type": "code",
      "metadata": {
        "id": "XpjWoCAIyQAL"
      },
      "source": [
        "temp_genre = []\n",
        "for name in bsobj.findAll('div',{'class':'DrjyGw-P _26S7gyB4 _3SccQt-T'}):\n",
        "  temp_genre.append(name.text.strip())"
      ],
      "execution_count": 49,
      "outputs": []
    },
    {
      "cell_type": "code",
      "metadata": {
        "colab": {
          "base_uri": "https://localhost:8080/"
        },
        "id": "IP4mV-TiybaS",
        "outputId": "c90fe9bf-fd96-4f9d-f21b-df53fc7effcf"
      },
      "source": [
        "temp_genre"
      ],
      "execution_count": 50,
      "outputs": [
        {
          "output_type": "execute_result",
          "data": {
            "text/plain": [
              "['Things to do ranked using Tripadvisor data including reviews, ratings, photos, and popularity.',\n",
              " 'Highest rated attractions on Tripadvisor, based on traveller reviews.',\n",
              " 'Historic Sites • Religious Sites',\n",
              " 'We purchased a vip pass for ₹501 and had immediate access to the temple gates.',\n",
              " 'Nature & Wildlife Areas',\n",
              " \"It's easy to get around this compact sanctuary and I would strongly recommend that you take the elephant safari for w...\",\n",
              " 'Religious Sites',\n",
              " 'This temple is dedicated to Shiva and Parvati at the top of the Peacock island.',\n",
              " 'Bodies of Water',\n",
              " 'Our cruise included a visit to Majuli Island and the Kaziranga National Park.',\n",
              " 'Religious Sites',\n",
              " 'Layout of temple premises are very Nice,well maintained South Indian Architecture,the garden is very beautiful with p...',\n",
              " 'Nature & Wildlife Areas',\n",
              " 'Speciality is that you have to visit the sanctuary on foot with guides/guards arranged from the park authorities at a...',\n",
              " 'Parks',\n",
              " 'Bridges',\n",
              " 'Historic Sites • Parks',\n",
              " 'Religious Sites',\n",
              " 'Religious Sites',\n",
              " \"Must visit Lord Shiv's temple as it is related to ancient facts & interesting real stories of King's time\",\n",
              " 'Points of Interest & Landmarks',\n",
              " 'I did not have proof of permission to enter and hence I had to see the campus from outside only.',\n",
              " 'Bridges',\n",
              " 'Situated 45 km away from tinsukia,you can drive to roing through this bridge in 3 hours.As you might be thinking that...',\n",
              " 'Universities & Schools',\n",
              " 'Zoos',\n",
              " 'Open now',\n",
              " 'The zoo has a vast variety of animals around 40 with the celebrities being the White & Royal Bengal Tiger 🐅 , 🦁 lio...',\n",
              " 'Points of Interest & Landmarks • Flea & Street Markets',\n",
              " 'Maximum are road side hawkers.',\n",
              " 'Points of Interest & Landmarks',\n",
              " 'Religious Sites',\n",
              " 'This is a replica of the famous Jagannath temple at Puri.',\n",
              " 'Bridges',\n",
              " 'Saraighat bridge, connected the two banks of the mighty Brahmaputra river, The road-cum-rail bridge in Guwahati, inau...',\n",
              " 'Waterfalls',\n",
              " 'Bridges',\n",
              " 'This is one of the longest bridge of Assam.',\n",
              " 'Points of Interest & Landmarks • Religious Sites',\n",
              " 'Bodies of Water',\n",
              " 'Religious Sites',\n",
              " 'It is located on Chitrachal hill in the south-eastern part of the Guwahati city.',\n",
              " 'Points of Interest & Landmarks',\n",
              " \"It provides a platform to showcase the rich culture, art and living of Assam and it's neighborhood.\",\n",
              " 'Religious Sites',\n",
              " 'Educational sites',\n",
              " 'Biology dept, chemistry dept, bio machines dept, Physics dept, electronic depts are note worthy.',\n",
              " 'National Parks',\n",
              " '... and deer.The elephant safari is a must, for the early morning views of the landscapes are too good, almost a surr...',\n",
              " 'Religious Sites',\n",
              " 'Historic Sites',\n",
              " '... area and tourists come here to see the remains of this kingdom at Khaspur which makes the place more interesting.',\n",
              " 'Showing results 1-30 of 321']"
            ]
          },
          "metadata": {
            "tags": []
          },
          "execution_count": 50
        }
      ]
    },
    {
      "cell_type": "code",
      "metadata": {
        "id": "JsLQr-LLyc40"
      },
      "source": [
        "Assam_genre= []\n",
        "for t in temp_genre:\n",
        "  if (((len(t))<=30) and t!=\"Open now\"):\n",
        "    Assam_genre.append(t)"
      ],
      "execution_count": 51,
      "outputs": []
    },
    {
      "cell_type": "code",
      "metadata": {
        "id": "4gTR7DzjyyDX"
      },
      "source": [
        "Assam_genre = ['Historic Sites and Religious Sites',\n",
        "               'Nature & Wildlife Areas',\n",
        "               'Religious Sites',\n",
        "               'Bodies of Water',\n",
        "               'Religious Sites',\n",
        "               'Nature & Wildlife Areas',\n",
        "               'Parks',\n",
        "               'Bridges',\n",
        "               'Historic Sites and  Parks',\n",
        "               'Religious Sites',\n",
        "               'Religious Sites',\n",
        "               'Points of Interest and Landmarks',\n",
        "               'Bridges',\n",
        "               'Universities and Schools',\n",
        "               'Zoos',\n",
        "               'Flea and Street market',\n",
        "               'Points of Interest and Landmarks',\n",
        "               'Religious Sites',\n",
        "               'Bridges',\n",
        "               'Waterfalls',\n",
        "               'Bridges',\n",
        "               'Religious Sites',\n",
        "               'Bodies of Water',\n",
        "               'Religious Sites',\n",
        "               'Points of Interest and Landmarks',\n",
        "               'Religious Sites',\n",
        "               'Educational sites',\n",
        "               'National Parks',\n",
        "               'Religious Sites',\n",
        "               'Historic Sites',]"
      ],
      "execution_count": 52,
      "outputs": []
    },
    {
      "cell_type": "code",
      "metadata": {
        "id": "Z_Cenck4yooq"
      },
      "source": [
        "df_Assam = {\"Tourist Places\" : Assam_tourist_places1,'Genre' : Assam_genre}\n",
        "DF_Assam=pd.DataFrame.from_dict(df_Assam)"
      ],
      "execution_count": 53,
      "outputs": []
    },
    {
      "cell_type": "code",
      "metadata": {
        "colab": {
          "base_uri": "https://localhost:8080/",
          "height": 979
        },
        "id": "huWdJQvRHxBh",
        "outputId": "cbb27fcb-70b6-456d-f872-4fba55ada42e"
      },
      "source": [
        "DF_Assam"
      ],
      "execution_count": 54,
      "outputs": [
        {
          "output_type": "execute_result",
          "data": {
            "text/html": [
              "<div>\n",
              "<style scoped>\n",
              "    .dataframe tbody tr th:only-of-type {\n",
              "        vertical-align: middle;\n",
              "    }\n",
              "\n",
              "    .dataframe tbody tr th {\n",
              "        vertical-align: top;\n",
              "    }\n",
              "\n",
              "    .dataframe thead th {\n",
              "        text-align: right;\n",
              "    }\n",
              "</style>\n",
              "<table border=\"1\" class=\"dataframe\">\n",
              "  <thead>\n",
              "    <tr style=\"text-align: right;\">\n",
              "      <th></th>\n",
              "      <th>Tourist Places</th>\n",
              "      <th>Genre</th>\n",
              "    </tr>\n",
              "  </thead>\n",
              "  <tbody>\n",
              "    <tr>\n",
              "      <th>0</th>\n",
              "      <td>Kamakhya Temple</td>\n",
              "      <td>Historic Sites and Religious Sites</td>\n",
              "    </tr>\n",
              "    <tr>\n",
              "      <th>1</th>\n",
              "      <td>Pobitora Wildlife Sanctuary</td>\n",
              "      <td>Nature &amp; Wildlife Areas</td>\n",
              "    </tr>\n",
              "    <tr>\n",
              "      <th>2</th>\n",
              "      <td>Umananda Temple</td>\n",
              "      <td>Religious Sites</td>\n",
              "    </tr>\n",
              "    <tr>\n",
              "      <th>3</th>\n",
              "      <td>Brahmaputra River</td>\n",
              "      <td>Bodies of Water</td>\n",
              "    </tr>\n",
              "    <tr>\n",
              "      <th>4</th>\n",
              "      <td>Purva Tirupati Shri Balaji temple</td>\n",
              "      <td>Religious Sites</td>\n",
              "    </tr>\n",
              "    <tr>\n",
              "      <th>5</th>\n",
              "      <td>Hoollongapar Gibbon Sanctuary</td>\n",
              "      <td>Nature &amp; Wildlife Areas</td>\n",
              "    </tr>\n",
              "    <tr>\n",
              "      <th>6</th>\n",
              "      <td>Chitralekha Udyan</td>\n",
              "      <td>Parks</td>\n",
              "    </tr>\n",
              "    <tr>\n",
              "      <th>7</th>\n",
              "      <td>Kalia Bhomora Setu</td>\n",
              "      <td>Bridges</td>\n",
              "    </tr>\n",
              "    <tr>\n",
              "      <th>8</th>\n",
              "      <td>Agnigarh Hill</td>\n",
              "      <td>Historic Sites and  Parks</td>\n",
              "    </tr>\n",
              "    <tr>\n",
              "      <th>9</th>\n",
              "      <td>Nag-Sankar Temple</td>\n",
              "      <td>Religious Sites</td>\n",
              "    </tr>\n",
              "    <tr>\n",
              "      <th>10</th>\n",
              "      <td>Mahabhairab Temple</td>\n",
              "      <td>Religious Sites</td>\n",
              "    </tr>\n",
              "    <tr>\n",
              "      <th>11</th>\n",
              "      <td>Tocklai Tea Research Centre</td>\n",
              "      <td>Points of Interest and Landmarks</td>\n",
              "    </tr>\n",
              "    <tr>\n",
              "      <th>12</th>\n",
              "      <td>Bhupen Hazarika Setu Dhola-Sadiya Bridge</td>\n",
              "      <td>Bridges</td>\n",
              "    </tr>\n",
              "    <tr>\n",
              "      <th>13</th>\n",
              "      <td>National Institute of TechnologySilchar</td>\n",
              "      <td>Universities and Schools</td>\n",
              "    </tr>\n",
              "    <tr>\n",
              "      <th>14</th>\n",
              "      <td>Assam State Zoo</td>\n",
              "      <td>Zoos</td>\n",
              "    </tr>\n",
              "    <tr>\n",
              "      <th>15</th>\n",
              "      <td>Fancy Bazar</td>\n",
              "      <td>Flea and Street market</td>\n",
              "    </tr>\n",
              "    <tr>\n",
              "      <th>16</th>\n",
              "      <td>Dhekiajuli</td>\n",
              "      <td>Points of Interest and Landmarks</td>\n",
              "    </tr>\n",
              "    <tr>\n",
              "      <th>17</th>\n",
              "      <td>Jagannath Temple</td>\n",
              "      <td>Religious Sites</td>\n",
              "    </tr>\n",
              "    <tr>\n",
              "      <th>18</th>\n",
              "      <td>Saraighat Bridge</td>\n",
              "      <td>Bridges</td>\n",
              "    </tr>\n",
              "    <tr>\n",
              "      <th>19</th>\n",
              "      <td>Panimur Waterfalls</td>\n",
              "      <td>Waterfalls</td>\n",
              "    </tr>\n",
              "    <tr>\n",
              "      <th>20</th>\n",
              "      <td>Bogibeel Bridge</td>\n",
              "      <td>Bridges</td>\n",
              "    </tr>\n",
              "    <tr>\n",
              "      <th>21</th>\n",
              "      <td>Jaysagar Tank and Temples</td>\n",
              "      <td>Religious Sites</td>\n",
              "    </tr>\n",
              "    <tr>\n",
              "      <th>22</th>\n",
              "      <td>Sivasagar Pond</td>\n",
              "      <td>Bodies of Water</td>\n",
              "    </tr>\n",
              "    <tr>\n",
              "      <th>23</th>\n",
              "      <td>Navagraha Temple</td>\n",
              "      <td>Religious Sites</td>\n",
              "    </tr>\n",
              "    <tr>\n",
              "      <th>24</th>\n",
              "      <td>Shrimanta Shankardeva Kalakshetra</td>\n",
              "      <td>Points of Interest and Landmarks</td>\n",
              "    </tr>\n",
              "    <tr>\n",
              "      <th>25</th>\n",
              "      <td>Sri Kancha Kanti Devi Mandir</td>\n",
              "      <td>Religious Sites</td>\n",
              "    </tr>\n",
              "    <tr>\n",
              "      <th>26</th>\n",
              "      <td>Regional Science Center</td>\n",
              "      <td>Educational sites</td>\n",
              "    </tr>\n",
              "    <tr>\n",
              "      <th>27</th>\n",
              "      <td>Kaziranga National Park</td>\n",
              "      <td>National Parks</td>\n",
              "    </tr>\n",
              "    <tr>\n",
              "      <th>28</th>\n",
              "      <td>ISKCON Guwahati</td>\n",
              "      <td>Religious Sites</td>\n",
              "    </tr>\n",
              "    <tr>\n",
              "      <th>29</th>\n",
              "      <td>Kachari Fort</td>\n",
              "      <td>Historic Sites</td>\n",
              "    </tr>\n",
              "  </tbody>\n",
              "</table>\n",
              "</div>"
            ],
            "text/plain": [
              "                              Tourist Places                               Genre\n",
              "0                            Kamakhya Temple  Historic Sites and Religious Sites\n",
              "1                Pobitora Wildlife Sanctuary             Nature & Wildlife Areas\n",
              "2                            Umananda Temple                     Religious Sites\n",
              "3                          Brahmaputra River                     Bodies of Water\n",
              "4          Purva Tirupati Shri Balaji temple                     Religious Sites\n",
              "5              Hoollongapar Gibbon Sanctuary             Nature & Wildlife Areas\n",
              "6                          Chitralekha Udyan                               Parks\n",
              "7                         Kalia Bhomora Setu                             Bridges\n",
              "8                              Agnigarh Hill           Historic Sites and  Parks\n",
              "9                          Nag-Sankar Temple                     Religious Sites\n",
              "10                        Mahabhairab Temple                     Religious Sites\n",
              "11               Tocklai Tea Research Centre    Points of Interest and Landmarks\n",
              "12  Bhupen Hazarika Setu Dhola-Sadiya Bridge                             Bridges\n",
              "13   National Institute of TechnologySilchar            Universities and Schools\n",
              "14                           Assam State Zoo                                Zoos\n",
              "15                               Fancy Bazar              Flea and Street market\n",
              "16                                Dhekiajuli    Points of Interest and Landmarks\n",
              "17                          Jagannath Temple                     Religious Sites\n",
              "18                          Saraighat Bridge                             Bridges\n",
              "19                        Panimur Waterfalls                          Waterfalls\n",
              "20                           Bogibeel Bridge                             Bridges\n",
              "21                 Jaysagar Tank and Temples                     Religious Sites\n",
              "22                            Sivasagar Pond                     Bodies of Water\n",
              "23                          Navagraha Temple                     Religious Sites\n",
              "24         Shrimanta Shankardeva Kalakshetra    Points of Interest and Landmarks\n",
              "25              Sri Kancha Kanti Devi Mandir                     Religious Sites\n",
              "26                   Regional Science Center                   Educational sites\n",
              "27                   Kaziranga National Park                      National Parks\n",
              "28                           ISKCON Guwahati                     Religious Sites\n",
              "29                              Kachari Fort                      Historic Sites"
            ]
          },
          "metadata": {
            "tags": []
          },
          "execution_count": 54
        }
      ]
    },
    {
      "cell_type": "code",
      "metadata": {
        "id": "zxHbtBjJJXTi"
      },
      "source": [
        "final_df=pd.concat([DF_AndraPradesh,DF_ArunachalPradesh],ignore_index=True)"
      ],
      "execution_count": 55,
      "outputs": []
    },
    {
      "cell_type": "code",
      "metadata": {
        "id": "Vm_vdkpBJws6"
      },
      "source": [
        "final_df=pd.concat([final_df,DF_Assam],ignore_index=True)"
      ],
      "execution_count": 56,
      "outputs": []
    },
    {
      "cell_type": "code",
      "metadata": {
        "colab": {
          "base_uri": "https://localhost:8080/"
        },
        "id": "vbSqOFZzJyNf",
        "outputId": "007a185d-dac7-4145-eb2e-a8fc6c0f2c01"
      },
      "source": [
        "final_df.shape"
      ],
      "execution_count": 57,
      "outputs": [
        {
          "output_type": "execute_result",
          "data": {
            "text/plain": [
              "(90, 2)"
            ]
          },
          "metadata": {
            "tags": []
          },
          "execution_count": 57
        }
      ]
    },
    {
      "cell_type": "code",
      "metadata": {
        "id": "4HY8hEY1K4G1",
        "outputId": "2d0393cc-691c-4f14-bd6d-35fb773d04b8",
        "colab": {
          "base_uri": "https://localhost:8080/",
          "height": 419
        }
      },
      "source": [
        "final_df"
      ],
      "execution_count": 58,
      "outputs": [
        {
          "output_type": "execute_result",
          "data": {
            "text/html": [
              "<div>\n",
              "<style scoped>\n",
              "    .dataframe tbody tr th:only-of-type {\n",
              "        vertical-align: middle;\n",
              "    }\n",
              "\n",
              "    .dataframe tbody tr th {\n",
              "        vertical-align: top;\n",
              "    }\n",
              "\n",
              "    .dataframe thead th {\n",
              "        text-align: right;\n",
              "    }\n",
              "</style>\n",
              "<table border=\"1\" class=\"dataframe\">\n",
              "  <thead>\n",
              "    <tr style=\"text-align: right;\">\n",
              "      <th></th>\n",
              "      <th>Tourist Places</th>\n",
              "      <th>Genre</th>\n",
              "    </tr>\n",
              "  </thead>\n",
              "  <tbody>\n",
              "    <tr>\n",
              "      <th>0</th>\n",
              "      <td>Tirumala Temple</td>\n",
              "      <td>Religious Sites</td>\n",
              "    </tr>\n",
              "    <tr>\n",
              "      <th>1</th>\n",
              "      <td>Borra Caves</td>\n",
              "      <td>Caverns &amp; Caves</td>\n",
              "    </tr>\n",
              "    <tr>\n",
              "      <th>2</th>\n",
              "      <td>INS Kurusura Submarine Museum</td>\n",
              "      <td>Speciality Museums</td>\n",
              "    </tr>\n",
              "    <tr>\n",
              "      <th>3</th>\n",
              "      <td>Kailasagiri</td>\n",
              "      <td>Parks</td>\n",
              "    </tr>\n",
              "    <tr>\n",
              "      <th>4</th>\n",
              "      <td>Rishikonda Beach</td>\n",
              "      <td>Beaches</td>\n",
              "    </tr>\n",
              "    <tr>\n",
              "      <th>...</th>\n",
              "      <td>...</td>\n",
              "      <td>...</td>\n",
              "    </tr>\n",
              "    <tr>\n",
              "      <th>85</th>\n",
              "      <td>Sri Kancha Kanti Devi Mandir</td>\n",
              "      <td>Religious Sites</td>\n",
              "    </tr>\n",
              "    <tr>\n",
              "      <th>86</th>\n",
              "      <td>Regional Science Center</td>\n",
              "      <td>Educational sites</td>\n",
              "    </tr>\n",
              "    <tr>\n",
              "      <th>87</th>\n",
              "      <td>Kaziranga National Park</td>\n",
              "      <td>National Parks</td>\n",
              "    </tr>\n",
              "    <tr>\n",
              "      <th>88</th>\n",
              "      <td>ISKCON Guwahati</td>\n",
              "      <td>Religious Sites</td>\n",
              "    </tr>\n",
              "    <tr>\n",
              "      <th>89</th>\n",
              "      <td>Kachari Fort</td>\n",
              "      <td>Historic Sites</td>\n",
              "    </tr>\n",
              "  </tbody>\n",
              "</table>\n",
              "<p>90 rows × 2 columns</p>\n",
              "</div>"
            ],
            "text/plain": [
              "                   Tourist Places               Genre\n",
              "0                 Tirumala Temple     Religious Sites\n",
              "1                     Borra Caves     Caverns & Caves\n",
              "2   INS Kurusura Submarine Museum  Speciality Museums\n",
              "3                     Kailasagiri               Parks\n",
              "4                Rishikonda Beach             Beaches\n",
              "..                            ...                 ...\n",
              "85   Sri Kancha Kanti Devi Mandir     Religious Sites\n",
              "86        Regional Science Center   Educational sites\n",
              "87        Kaziranga National Park      National Parks\n",
              "88                ISKCON Guwahati     Religious Sites\n",
              "89                   Kachari Fort      Historic Sites\n",
              "\n",
              "[90 rows x 2 columns]"
            ]
          },
          "metadata": {
            "tags": []
          },
          "execution_count": 58
        }
      ]
    },
    {
      "cell_type": "code",
      "metadata": {
        "colab": {
          "base_uri": "https://localhost:8080/"
        },
        "id": "_CTt2yoeKOap",
        "outputId": "09547232-cd77-44e3-e8b6-8a03587ec797"
      },
      "source": [
        "!pip install tensorflow==1.13.1"
      ],
      "execution_count": 59,
      "outputs": [
        {
          "output_type": "stream",
          "text": [
            "Collecting tensorflow==1.13.1\n",
            "\u001b[?25l  Downloading https://files.pythonhosted.org/packages/d4/29/6b4f1e02417c3a1ccc85380f093556ffd0b35dc354078074c5195c8447f2/tensorflow-1.13.1-cp37-cp37m-manylinux1_x86_64.whl (92.6MB)\n",
            "\u001b[K     |████████████████████████████████| 92.6MB 48kB/s \n",
            "\u001b[?25hRequirement already satisfied: keras-preprocessing>=1.0.5 in /usr/local/lib/python3.7/dist-packages (from tensorflow==1.13.1) (1.1.2)\n",
            "Requirement already satisfied: protobuf>=3.6.1 in /usr/local/lib/python3.7/dist-packages (from tensorflow==1.13.1) (3.12.4)\n",
            "Requirement already satisfied: absl-py>=0.1.6 in /usr/local/lib/python3.7/dist-packages (from tensorflow==1.13.1) (0.12.0)\n",
            "Requirement already satisfied: six>=1.10.0 in /usr/local/lib/python3.7/dist-packages (from tensorflow==1.13.1) (1.15.0)\n",
            "Requirement already satisfied: termcolor>=1.1.0 in /usr/local/lib/python3.7/dist-packages (from tensorflow==1.13.1) (1.1.0)\n",
            "Collecting keras-applications>=1.0.6\n",
            "\u001b[?25l  Downloading https://files.pythonhosted.org/packages/71/e3/19762fdfc62877ae9102edf6342d71b28fbfd9dea3d2f96a882ce099b03f/Keras_Applications-1.0.8-py3-none-any.whl (50kB)\n",
            "\u001b[K     |████████████████████████████████| 51kB 9.4MB/s \n",
            "\u001b[?25hRequirement already satisfied: numpy>=1.13.3 in /usr/local/lib/python3.7/dist-packages (from tensorflow==1.13.1) (1.19.5)\n",
            "Requirement already satisfied: wheel>=0.26 in /usr/local/lib/python3.7/dist-packages (from tensorflow==1.13.1) (0.36.2)\n",
            "Collecting tensorboard<1.14.0,>=1.13.0\n",
            "\u001b[?25l  Downloading https://files.pythonhosted.org/packages/0f/39/bdd75b08a6fba41f098b6cb091b9e8c7a80e1b4d679a581a0ccd17b10373/tensorboard-1.13.1-py3-none-any.whl (3.2MB)\n",
            "\u001b[K     |████████████████████████████████| 3.2MB 41.4MB/s \n",
            "\u001b[?25hRequirement already satisfied: gast>=0.2.0 in /usr/local/lib/python3.7/dist-packages (from tensorflow==1.13.1) (0.4.0)\n",
            "Requirement already satisfied: grpcio>=1.8.6 in /usr/local/lib/python3.7/dist-packages (from tensorflow==1.13.1) (1.34.1)\n",
            "Collecting tensorflow-estimator<1.14.0rc0,>=1.13.0\n",
            "\u001b[?25l  Downloading https://files.pythonhosted.org/packages/bb/48/13f49fc3fa0fdf916aa1419013bb8f2ad09674c275b4046d5ee669a46873/tensorflow_estimator-1.13.0-py2.py3-none-any.whl (367kB)\n",
            "\u001b[K     |████████████████████████████████| 368kB 54.8MB/s \n",
            "\u001b[?25hRequirement already satisfied: astor>=0.6.0 in /usr/local/lib/python3.7/dist-packages (from tensorflow==1.13.1) (0.8.1)\n",
            "Requirement already satisfied: setuptools in /usr/local/lib/python3.7/dist-packages (from protobuf>=3.6.1->tensorflow==1.13.1) (57.0.0)\n",
            "Requirement already satisfied: h5py in /usr/local/lib/python3.7/dist-packages (from keras-applications>=1.0.6->tensorflow==1.13.1) (3.1.0)\n",
            "Requirement already satisfied: markdown>=2.6.8 in /usr/local/lib/python3.7/dist-packages (from tensorboard<1.14.0,>=1.13.0->tensorflow==1.13.1) (3.3.4)\n",
            "Requirement already satisfied: werkzeug>=0.11.15 in /usr/local/lib/python3.7/dist-packages (from tensorboard<1.14.0,>=1.13.0->tensorflow==1.13.1) (1.0.1)\n",
            "Collecting mock>=2.0.0\n",
            "  Downloading https://files.pythonhosted.org/packages/5c/03/b7e605db4a57c0f6fba744b11ef3ddf4ddebcada35022927a2b5fc623fdf/mock-4.0.3-py3-none-any.whl\n",
            "Requirement already satisfied: cached-property; python_version < \"3.8\" in /usr/local/lib/python3.7/dist-packages (from h5py->keras-applications>=1.0.6->tensorflow==1.13.1) (1.5.2)\n",
            "Requirement already satisfied: importlib-metadata; python_version < \"3.8\" in /usr/local/lib/python3.7/dist-packages (from markdown>=2.6.8->tensorboard<1.14.0,>=1.13.0->tensorflow==1.13.1) (4.5.0)\n",
            "Requirement already satisfied: typing-extensions>=3.6.4; python_version < \"3.8\" in /usr/local/lib/python3.7/dist-packages (from importlib-metadata; python_version < \"3.8\"->markdown>=2.6.8->tensorboard<1.14.0,>=1.13.0->tensorflow==1.13.1) (3.7.4.3)\n",
            "Requirement already satisfied: zipp>=0.5 in /usr/local/lib/python3.7/dist-packages (from importlib-metadata; python_version < \"3.8\"->markdown>=2.6.8->tensorboard<1.14.0,>=1.13.0->tensorflow==1.13.1) (3.4.1)\n",
            "\u001b[31mERROR: kapre 0.3.5 has requirement tensorflow>=2.0.0, but you'll have tensorflow 1.13.1 which is incompatible.\u001b[0m\n",
            "Installing collected packages: keras-applications, tensorboard, mock, tensorflow-estimator, tensorflow\n",
            "  Found existing installation: tensorboard 2.5.0\n",
            "    Uninstalling tensorboard-2.5.0:\n",
            "      Successfully uninstalled tensorboard-2.5.0\n",
            "  Found existing installation: tensorflow-estimator 2.5.0\n",
            "    Uninstalling tensorflow-estimator-2.5.0:\n",
            "      Successfully uninstalled tensorflow-estimator-2.5.0\n",
            "  Found existing installation: tensorflow 2.5.0\n",
            "    Uninstalling tensorflow-2.5.0:\n",
            "      Successfully uninstalled tensorflow-2.5.0\n",
            "Successfully installed keras-applications-1.0.8 mock-4.0.3 tensorboard-1.13.1 tensorflow-1.13.1 tensorflow-estimator-1.13.0\n"
          ],
          "name": "stdout"
        }
      ]
    },
    {
      "cell_type": "code",
      "metadata": {
        "colab": {
          "base_uri": "https://localhost:8080/"
        },
        "id": "pImrbQyJL22I",
        "outputId": "e8ff3d08-e98c-4cc4-fb1d-e60bee1a80e4"
      },
      "source": [
        "import tensorflow as tf"
      ],
      "execution_count": 60,
      "outputs": [
        {
          "output_type": "stream",
          "text": [
            "/usr/local/lib/python3.7/dist-packages/tensorflow/python/framework/dtypes.py:526: FutureWarning: Passing (type, 1) or '1type' as a synonym of type is deprecated; in a future version of numpy, it will be understood as (type, (1,)) / '(1,)type'.\n",
            "  _np_qint8 = np.dtype([(\"qint8\", np.int8, 1)])\n",
            "/usr/local/lib/python3.7/dist-packages/tensorflow/python/framework/dtypes.py:527: FutureWarning: Passing (type, 1) or '1type' as a synonym of type is deprecated; in a future version of numpy, it will be understood as (type, (1,)) / '(1,)type'.\n",
            "  _np_quint8 = np.dtype([(\"quint8\", np.uint8, 1)])\n",
            "/usr/local/lib/python3.7/dist-packages/tensorflow/python/framework/dtypes.py:528: FutureWarning: Passing (type, 1) or '1type' as a synonym of type is deprecated; in a future version of numpy, it will be understood as (type, (1,)) / '(1,)type'.\n",
            "  _np_qint16 = np.dtype([(\"qint16\", np.int16, 1)])\n",
            "/usr/local/lib/python3.7/dist-packages/tensorflow/python/framework/dtypes.py:529: FutureWarning: Passing (type, 1) or '1type' as a synonym of type is deprecated; in a future version of numpy, it will be understood as (type, (1,)) / '(1,)type'.\n",
            "  _np_quint16 = np.dtype([(\"quint16\", np.uint16, 1)])\n",
            "/usr/local/lib/python3.7/dist-packages/tensorflow/python/framework/dtypes.py:530: FutureWarning: Passing (type, 1) or '1type' as a synonym of type is deprecated; in a future version of numpy, it will be understood as (type, (1,)) / '(1,)type'.\n",
            "  _np_qint32 = np.dtype([(\"qint32\", np.int32, 1)])\n",
            "/usr/local/lib/python3.7/dist-packages/tensorflow/python/framework/dtypes.py:535: FutureWarning: Passing (type, 1) or '1type' as a synonym of type is deprecated; in a future version of numpy, it will be understood as (type, (1,)) / '(1,)type'.\n",
            "  np_resource = np.dtype([(\"resource\", np.ubyte, 1)])\n"
          ],
          "name": "stderr"
        }
      ]
    },
    {
      "cell_type": "code",
      "metadata": {
        "id": "XWWgqOPtMRK1"
      },
      "source": [
        "tf.enable_eager_execution()"
      ],
      "execution_count": 61,
      "outputs": []
    },
    {
      "cell_type": "code",
      "metadata": {
        "id": "q-i7ChlQMXSp"
      },
      "source": [
        "places= []\n",
        "for p in final_df['Tourist Places'] :\n",
        "  places.append(p)"
      ],
      "execution_count": 62,
      "outputs": []
    },
    {
      "cell_type": "code",
      "metadata": {
        "colab": {
          "base_uri": "https://localhost:8080/",
          "height": 419
        },
        "id": "HPco8ORPM2EI",
        "outputId": "502618b8-8ef9-4c27-85f4-99625eb0f349"
      },
      "source": [
        "final_df"
      ],
      "execution_count": 63,
      "outputs": [
        {
          "output_type": "execute_result",
          "data": {
            "text/html": [
              "<div>\n",
              "<style scoped>\n",
              "    .dataframe tbody tr th:only-of-type {\n",
              "        vertical-align: middle;\n",
              "    }\n",
              "\n",
              "    .dataframe tbody tr th {\n",
              "        vertical-align: top;\n",
              "    }\n",
              "\n",
              "    .dataframe thead th {\n",
              "        text-align: right;\n",
              "    }\n",
              "</style>\n",
              "<table border=\"1\" class=\"dataframe\">\n",
              "  <thead>\n",
              "    <tr style=\"text-align: right;\">\n",
              "      <th></th>\n",
              "      <th>Tourist Places</th>\n",
              "      <th>Genre</th>\n",
              "    </tr>\n",
              "  </thead>\n",
              "  <tbody>\n",
              "    <tr>\n",
              "      <th>0</th>\n",
              "      <td>Tirumala Temple</td>\n",
              "      <td>Religious Sites</td>\n",
              "    </tr>\n",
              "    <tr>\n",
              "      <th>1</th>\n",
              "      <td>Borra Caves</td>\n",
              "      <td>Caverns &amp; Caves</td>\n",
              "    </tr>\n",
              "    <tr>\n",
              "      <th>2</th>\n",
              "      <td>INS Kurusura Submarine Museum</td>\n",
              "      <td>Speciality Museums</td>\n",
              "    </tr>\n",
              "    <tr>\n",
              "      <th>3</th>\n",
              "      <td>Kailasagiri</td>\n",
              "      <td>Parks</td>\n",
              "    </tr>\n",
              "    <tr>\n",
              "      <th>4</th>\n",
              "      <td>Rishikonda Beach</td>\n",
              "      <td>Beaches</td>\n",
              "    </tr>\n",
              "    <tr>\n",
              "      <th>...</th>\n",
              "      <td>...</td>\n",
              "      <td>...</td>\n",
              "    </tr>\n",
              "    <tr>\n",
              "      <th>85</th>\n",
              "      <td>Sri Kancha Kanti Devi Mandir</td>\n",
              "      <td>Religious Sites</td>\n",
              "    </tr>\n",
              "    <tr>\n",
              "      <th>86</th>\n",
              "      <td>Regional Science Center</td>\n",
              "      <td>Educational sites</td>\n",
              "    </tr>\n",
              "    <tr>\n",
              "      <th>87</th>\n",
              "      <td>Kaziranga National Park</td>\n",
              "      <td>National Parks</td>\n",
              "    </tr>\n",
              "    <tr>\n",
              "      <th>88</th>\n",
              "      <td>ISKCON Guwahati</td>\n",
              "      <td>Religious Sites</td>\n",
              "    </tr>\n",
              "    <tr>\n",
              "      <th>89</th>\n",
              "      <td>Kachari Fort</td>\n",
              "      <td>Historic Sites</td>\n",
              "    </tr>\n",
              "  </tbody>\n",
              "</table>\n",
              "<p>90 rows × 2 columns</p>\n",
              "</div>"
            ],
            "text/plain": [
              "                   Tourist Places               Genre\n",
              "0                 Tirumala Temple     Religious Sites\n",
              "1                     Borra Caves     Caverns & Caves\n",
              "2   INS Kurusura Submarine Museum  Speciality Museums\n",
              "3                     Kailasagiri               Parks\n",
              "4                Rishikonda Beach             Beaches\n",
              "..                            ...                 ...\n",
              "85   Sri Kancha Kanti Devi Mandir     Religious Sites\n",
              "86        Regional Science Center   Educational sites\n",
              "87        Kaziranga National Park      National Parks\n",
              "88                ISKCON Guwahati     Religious Sites\n",
              "89                   Kachari Fort      Historic Sites\n",
              "\n",
              "[90 rows x 2 columns]"
            ]
          },
          "metadata": {
            "tags": []
          },
          "execution_count": 63
        }
      ]
    },
    {
      "cell_type": "code",
      "metadata": {
        "id": "SnAak1r3OFEx"
      },
      "source": [
        "from sklearn.feature_extraction.text import CountVectorizer\n",
        "\n",
        "count = CountVectorizer(stop_words='english')\n",
        "count_matrix = count.fit_transform(final_df['Genre'])"
      ],
      "execution_count": 64,
      "outputs": []
    },
    {
      "cell_type": "code",
      "metadata": {
        "id": "5qCEIs-GOFR3"
      },
      "source": [
        "from sklearn.metrics.pairwise import cosine_similarity\n",
        "\n",
        "cosine_sim2 = cosine_similarity(count_matrix, count_matrix)"
      ],
      "execution_count": 65,
      "outputs": []
    },
    {
      "cell_type": "code",
      "metadata": {
        "id": "npjMN-DGkk_q"
      },
      "source": [
        "final_df = final_df.reset_index()\n",
        "indices = pd.Series(final_df.index, index=final_df['Tourist Places'])"
      ],
      "execution_count": 66,
      "outputs": []
    },
    {
      "cell_type": "code",
      "metadata": {
        "colab": {
          "base_uri": "https://localhost:8080/"
        },
        "id": "NKQBSRUhlo0_",
        "outputId": "c51ebb19-5d22-4206-cf7c-c50f0d3c071d"
      },
      "source": [
        "from sklearn.feature_extraction.text import TfidfVectorizer\n",
        "\n",
        "#Define a TF-IDF Vectorizer Object. Remove all english stop words such as 'the', 'a'\n",
        "tfidf = TfidfVectorizer(stop_words='english')\n",
        "\n",
        "#Construct the required TF-IDF matrix by fitting and transforming the data\n",
        "tfidf_matrix = tfidf.fit_transform(final_df['Tourist Places'])\n",
        "\n",
        "#Output the shape of tfidf_matrix\n",
        "tfidf_matrix.shape"
      ],
      "execution_count": 67,
      "outputs": [
        {
          "output_type": "execute_result",
          "data": {
            "text/plain": [
              "(90, 167)"
            ]
          },
          "metadata": {
            "tags": []
          },
          "execution_count": 67
        }
      ]
    },
    {
      "cell_type": "code",
      "metadata": {
        "id": "ZyBAybDalBhb"
      },
      "source": [
        "from sklearn.metrics.pairwise import linear_kernel\n",
        "cosine_sim = linear_kernel(tfidf_matrix, tfidf_matrix)"
      ],
      "execution_count": 68,
      "outputs": []
    },
    {
      "cell_type": "code",
      "metadata": {
        "id": "TA_KcG0klBtp"
      },
      "source": [
        "def get_recommendations(title, cosine_sim=cosine_sim):\n",
        "    idx = indices[title]\n",
        "\n",
        "    sim_scores = list(enumerate(cosine_sim[idx]))\n",
        "\n",
        "    sim_scores = sorted(sim_scores, key=lambda x: x[1], reverse=True)\n",
        "\n",
        "    sim_scores = sim_scores[1:11]\n",
        "\n",
        "    place_indices = [i[0] for i in sim_scores]\n",
        "\n",
        "    return final_df['Tourist Places'].iloc[place_indices]"
      ],
      "execution_count": 69,
      "outputs": []
    },
    {
      "cell_type": "code",
      "metadata": {
        "colab": {
          "base_uri": "https://localhost:8080/"
        },
        "id": "ZN37sdSFky0P",
        "outputId": "ad6120ec-3529-4b91-a485-024f1e526425"
      },
      "source": [
        "get_recommendations('Kachari Fort', cosine_sim)"
      ],
      "execution_count": 74,
      "outputs": [
        {
          "output_type": "execute_result",
          "data": {
            "text/plain": [
              "28                                  Gandikota Fort\n",
              "0                                  Tirumala Temple\n",
              "1                                      Borra Caves\n",
              "2                    INS Kurusura Submarine Museum\n",
              "3                                      Kailasagiri\n",
              "4                                 Rishikonda Beach\n",
              "5                                       Tada Falls\n",
              "6                                      Belum Caves\n",
              "7                                  Ahobilam Temple\n",
              "8     Sri Durga Malleswara Swamy Varla Devasthanam\n",
              "Name: Tourist Places, dtype: object"
            ]
          },
          "metadata": {
            "tags": []
          },
          "execution_count": 74
        }
      ]
    },
    {
      "cell_type": "code",
      "metadata": {
        "id": "m1QL3jzmL7Lx",
        "outputId": "7ae6ca8d-aafd-468c-c026-992007dc16b3",
        "colab": {
          "base_uri": "https://localhost:8080/"
        }
      },
      "source": [
        "get_recommendations('Rishikonda Beach', cosine_sim)"
      ],
      "execution_count": 77,
      "outputs": [
        {
          "output_type": "execute_result",
          "data": {
            "text/plain": [
              "11                                    Yarada Beach\n",
              "15                              Rama Krishna Beach\n",
              "0                                  Tirumala Temple\n",
              "1                                      Borra Caves\n",
              "2                    INS Kurusura Submarine Museum\n",
              "3                                      Kailasagiri\n",
              "5                                       Tada Falls\n",
              "6                                      Belum Caves\n",
              "7                                  Ahobilam Temple\n",
              "8     Sri Durga Malleswara Swamy Varla Devasthanam\n",
              "Name: Tourist Places, dtype: object"
            ]
          },
          "metadata": {
            "tags": []
          },
          "execution_count": 77
        }
      ]
    }
  ]
}