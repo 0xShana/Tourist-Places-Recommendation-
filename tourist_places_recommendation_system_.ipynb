{
  "nbformat": 4,
  "nbformat_minor": 0,
  "metadata": {
    "colab": {
      "name": "tourist places recommendation system .ipynb",
      "provenance": [],
      "collapsed_sections": [],
      "include_colab_link": true
    },
    "kernelspec": {
      "name": "python3",
      "display_name": "Python 3"
    }
  },
  "cells": [
    {
      "cell_type": "markdown",
      "metadata": {
        "id": "view-in-github",
        "colab_type": "text"
      },
      "source": [
        "<a href=\"https://colab.research.google.com/github/shanajames0808/Tourist-Places-Recommendation-/blob/main/tourist_places_recommendation_system_.ipynb\" target=\"_parent\"><img src=\"https://colab.research.google.com/assets/colab-badge.svg\" alt=\"Open In Colab\"/></a>"
      ]
    },
    {
      "cell_type": "code",
      "metadata": {
        "id": "CRBRIspwJjjl"
      },
      "source": [
        "import requests\n",
        "from bs4 import BeautifulSoup as soup\n",
        "html = requests.get('https://www.tripadvisor.in/Attractions-g297585-Activities-a_allAttractions.true-Andhra_Pradesh.html')"
      ],
      "execution_count": 30,
      "outputs": []
    },
    {
      "cell_type": "code",
      "metadata": {
        "id": "rTtJGE1eLS72"
      },
      "source": [
        "s"
      ],
      "execution_count": 117,
      "outputs": []
    },
    {
      "cell_type": "code",
      "metadata": {
        "id": "Qx5VWIbkPsNG"
      },
      "source": [
        "bsobj = soup(html.content,'lxml')"
      ],
      "execution_count": 33,
      "outputs": []
    },
    {
      "cell_type": "code",
      "metadata": {
        "id": "cvis_VYfJlMK"
      },
      "source": [
        "andrapradesh_tourist_places = []\n",
        "for name in bsobj.findAll('div',{'class':'_1gpq3zsA _1zP41Z7X'}):\n",
        "  andrapradesh_tourist_places.append(name.text.strip())"
      ],
      "execution_count": 36,
      "outputs": []
    },
    {
      "cell_type": "code",
      "metadata": {
        "id": "t1uVUvKHg_dA"
      },
      "source": [
        "andrapradesh_tourist_places123 = []\n",
        "for name in bsobj.findAll('div',{'class':'_1gpq3zsA _1zP41Z7X'}):\n",
        "  name=name.text.strip()\n",
        "  name=re.sub(r'[^a-zA-z]', '', name)\n",
        "  andrapradesh_tourist_places123.append(name)\n"
      ],
      "execution_count": 111,
      "outputs": []
    },
    {
      "cell_type": "code",
      "metadata": {
        "colab": {
          "base_uri": "https://localhost:8080/"
        },
        "id": "9f1mPe7bJlSl",
        "outputId": "3906a930-c0fc-4867-dcdd-c628705803bb"
      },
      "source": [
        "andrapradesh_tourist_places123"
      ],
      "execution_count": 112,
      "outputs": [
        {
          "output_type": "execute_result",
          "data": {
            "text/plain": [
              "['TirumalaTemple',\n",
              " 'BorraCaves',\n",
              " 'INSKurusuraSubmarineMuseum',\n",
              " 'Kailasagiri',\n",
              " 'RishikondaBeach',\n",
              " 'TadaFalls',\n",
              " 'BelumCaves',\n",
              " 'AhobilamTemple',\n",
              " 'SriDurgaMalleswaraSwamyVarlaDevasthanam',\n",
              " 'SriMallikarjunaSwamyTemple',\n",
              " 'NagalapuramFalls',\n",
              " 'YaradaBeach',\n",
              " 'GodavariBridge',\n",
              " 'SriKapileswaraswamiTemple',\n",
              " 'SriPadmavathiAmmavariTemple',\n",
              " 'RamaKrishnaBeach',\n",
              " 'HorsleyHills',\n",
              " 'PenchalakonaTemple',\n",
              " 'YagantiTemple',\n",
              " 'SrivariMettu',\n",
              " 'CoringaWildlifeSanctuary',\n",
              " 'PushkarGhat',\n",
              " 'SriRanganathaswamyTemple',\n",
              " 'ArakuValley',\n",
              " 'SrikalahasthiTemple',\n",
              " 'DolphinsNose',\n",
              " 'MGBFelicityMall',\n",
              " 'ISKCONRajahmundrySriSriRadhaGopinathTemple',\n",
              " 'GandikotaFort',\n",
              " 'JillellamudiAmmaTemple']"
            ]
          },
          "metadata": {
            "tags": []
          },
          "execution_count": 112
        }
      ]
    },
    {
      "cell_type": "code",
      "metadata": {
        "id": "BEcmu3-VJldQ"
      },
      "source": [
        "andrapradesh_genre = []\n",
        "for name in bsobj.findAll('div',{'class':'DrjyGw-P _26S7gyB4 _3SccQt-T'}):\n",
        "  andrapradesh_genre.append(name.text.strip())"
      ],
      "execution_count": 101,
      "outputs": []
    },
    {
      "cell_type": "code",
      "metadata": {
        "id": "txOTdzxAge5b"
      },
      "source": [
        ""
      ],
      "execution_count": 102,
      "outputs": []
    },
    {
      "cell_type": "code",
      "metadata": {
        "id": "alpPmYL4JllM"
      },
      "source": [
        "l=[]\n",
        "for t in andrapradesh_genre:\n",
        "  if (((len(t))<=18) and t!=\"Open now\"):\n",
        "    l.append(t)"
      ],
      "execution_count": 58,
      "outputs": []
    },
    {
      "cell_type": "code",
      "metadata": {
        "colab": {
          "base_uri": "https://localhost:8080/"
        },
        "id": "Vqtk5H4uZSws",
        "outputId": "71049d49-394a-405a-98fa-e4df3ee3d403"
      },
      "source": [
        "l"
      ],
      "execution_count": 59,
      "outputs": [
        {
          "output_type": "execute_result",
          "data": {
            "text/plain": [
              "['Caverns & Caves',\n",
              " 'Speciality Museums',\n",
              " 'Parks',\n",
              " 'Beaches',\n",
              " 'Caverns & Caves',\n",
              " 'Religious Sites',\n",
              " 'Religious Sites',\n",
              " 'Religious Sites',\n",
              " 'Waterfalls',\n",
              " 'Beaches',\n",
              " 'Religious Sites',\n",
              " 'Religious Sites',\n",
              " 'Beaches',\n",
              " 'Religious Sites',\n",
              " 'Religious Sites',\n",
              " 'Religious Sites',\n",
              " 'Religious Sites',\n",
              " 'Valleys',\n",
              " 'Religious Sites',\n",
              " 'Shopping Malls',\n",
              " 'Religious Sites',\n",
              " 'Religious Sites']"
            ]
          },
          "metadata": {
            "tags": []
          },
          "execution_count": 59
        }
      ]
    },
    {
      "cell_type": "code",
      "metadata": {
        "id": "pammY5pRJltA"
      },
      "source": [
        "ap_loc=[\n",
        "        'Religious Sites',\n",
        "        'Caverns & Caves',\n",
        "        'Speciality Museums',\n",
        "        'Parks',\n",
        "        'Beaches',\n",
        "        'Waterfalls',\n",
        "        'Caverns & Caves',\n",
        "        'Religious Sites',\n",
        "        'Religious Sites',\n",
        "        'Religious Sites',\n",
        "        'Waterfalls',\n",
        "        'Beaches',\n",
        "        'Bridges',\n",
        "        'Religious Sites',\n",
        "        'Religious Sites',\n",
        "        'Beaches',\n",
        "        'hills',\n",
        "        'Religious Sites',\n",
        "        'Religious Sites',\n",
        "        'Religious Sites',\n",
        "        'Wildlife areas',\n",
        "        'Religious Sites',\n",
        "        'Religious Sites',\n",
        "        'Valleys',\n",
        "        'Religious Sites',\n",
        "        'Landmarks',\n",
        "        'Shopping Malls',\n",
        "        'Religious Sites',\n",
        "        'landmark',\n",
        "        'Religious Sites']"
      ],
      "execution_count": 83,
      "outputs": []
    },
    {
      "cell_type": "code",
      "metadata": {
        "id": "brTaFXc7Jl0L"
      },
      "source": [
        "df_AndraPradesh = {\"Tourist Places\" : andrapradesh_tourist_places123,'Genre' : ap_loc}"
      ],
      "execution_count": 113,
      "outputs": []
    },
    {
      "cell_type": "code",
      "metadata": {
        "id": "0uPHrtmEJl8J"
      },
      "source": [
        "import pandas as ps"
      ],
      "execution_count": 114,
      "outputs": []
    },
    {
      "cell_type": "code",
      "metadata": {
        "id": "BYgo_b3HJmDh"
      },
      "source": [
        "DF_AndraPradesh=pd.DataFrame.from_dict(df_AndraPradesh)"
      ],
      "execution_count": 115,
      "outputs": []
    },
    {
      "cell_type": "code",
      "metadata": {
        "colab": {
          "base_uri": "https://localhost:8080/",
          "height": 979
        },
        "id": "m_akEzaxcAzF",
        "outputId": "55fc1b3b-b87c-4d93-cf4f-1a7fd547a408"
      },
      "source": [
        "DF_AndraPradesh"
      ],
      "execution_count": 116,
      "outputs": [
        {
          "output_type": "execute_result",
          "data": {
            "text/html": [
              "<div>\n",
              "<style scoped>\n",
              "    .dataframe tbody tr th:only-of-type {\n",
              "        vertical-align: middle;\n",
              "    }\n",
              "\n",
              "    .dataframe tbody tr th {\n",
              "        vertical-align: top;\n",
              "    }\n",
              "\n",
              "    .dataframe thead th {\n",
              "        text-align: right;\n",
              "    }\n",
              "</style>\n",
              "<table border=\"1\" class=\"dataframe\">\n",
              "  <thead>\n",
              "    <tr style=\"text-align: right;\">\n",
              "      <th></th>\n",
              "      <th>Tourist Places</th>\n",
              "      <th>Genre</th>\n",
              "    </tr>\n",
              "  </thead>\n",
              "  <tbody>\n",
              "    <tr>\n",
              "      <th>0</th>\n",
              "      <td>TirumalaTemple</td>\n",
              "      <td>Religious Sites</td>\n",
              "    </tr>\n",
              "    <tr>\n",
              "      <th>1</th>\n",
              "      <td>BorraCaves</td>\n",
              "      <td>Caverns &amp; Caves</td>\n",
              "    </tr>\n",
              "    <tr>\n",
              "      <th>2</th>\n",
              "      <td>INSKurusuraSubmarineMuseum</td>\n",
              "      <td>Speciality Museums</td>\n",
              "    </tr>\n",
              "    <tr>\n",
              "      <th>3</th>\n",
              "      <td>Kailasagiri</td>\n",
              "      <td>Parks</td>\n",
              "    </tr>\n",
              "    <tr>\n",
              "      <th>4</th>\n",
              "      <td>RishikondaBeach</td>\n",
              "      <td>Beaches</td>\n",
              "    </tr>\n",
              "    <tr>\n",
              "      <th>5</th>\n",
              "      <td>TadaFalls</td>\n",
              "      <td>Waterfalls</td>\n",
              "    </tr>\n",
              "    <tr>\n",
              "      <th>6</th>\n",
              "      <td>BelumCaves</td>\n",
              "      <td>Caverns &amp; Caves</td>\n",
              "    </tr>\n",
              "    <tr>\n",
              "      <th>7</th>\n",
              "      <td>AhobilamTemple</td>\n",
              "      <td>Religious Sites</td>\n",
              "    </tr>\n",
              "    <tr>\n",
              "      <th>8</th>\n",
              "      <td>SriDurgaMalleswaraSwamyVarlaDevasthanam</td>\n",
              "      <td>Religious Sites</td>\n",
              "    </tr>\n",
              "    <tr>\n",
              "      <th>9</th>\n",
              "      <td>SriMallikarjunaSwamyTemple</td>\n",
              "      <td>Religious Sites</td>\n",
              "    </tr>\n",
              "    <tr>\n",
              "      <th>10</th>\n",
              "      <td>NagalapuramFalls</td>\n",
              "      <td>Waterfalls</td>\n",
              "    </tr>\n",
              "    <tr>\n",
              "      <th>11</th>\n",
              "      <td>YaradaBeach</td>\n",
              "      <td>Beaches</td>\n",
              "    </tr>\n",
              "    <tr>\n",
              "      <th>12</th>\n",
              "      <td>GodavariBridge</td>\n",
              "      <td>Bridges</td>\n",
              "    </tr>\n",
              "    <tr>\n",
              "      <th>13</th>\n",
              "      <td>SriKapileswaraswamiTemple</td>\n",
              "      <td>Religious Sites</td>\n",
              "    </tr>\n",
              "    <tr>\n",
              "      <th>14</th>\n",
              "      <td>SriPadmavathiAmmavariTemple</td>\n",
              "      <td>Religious Sites</td>\n",
              "    </tr>\n",
              "    <tr>\n",
              "      <th>15</th>\n",
              "      <td>RamaKrishnaBeach</td>\n",
              "      <td>Beaches</td>\n",
              "    </tr>\n",
              "    <tr>\n",
              "      <th>16</th>\n",
              "      <td>HorsleyHills</td>\n",
              "      <td>hills</td>\n",
              "    </tr>\n",
              "    <tr>\n",
              "      <th>17</th>\n",
              "      <td>PenchalakonaTemple</td>\n",
              "      <td>Religious Sites</td>\n",
              "    </tr>\n",
              "    <tr>\n",
              "      <th>18</th>\n",
              "      <td>YagantiTemple</td>\n",
              "      <td>Religious Sites</td>\n",
              "    </tr>\n",
              "    <tr>\n",
              "      <th>19</th>\n",
              "      <td>SrivariMettu</td>\n",
              "      <td>Religious Sites</td>\n",
              "    </tr>\n",
              "    <tr>\n",
              "      <th>20</th>\n",
              "      <td>CoringaWildlifeSanctuary</td>\n",
              "      <td>Wildlife areas</td>\n",
              "    </tr>\n",
              "    <tr>\n",
              "      <th>21</th>\n",
              "      <td>PushkarGhat</td>\n",
              "      <td>Religious Sites</td>\n",
              "    </tr>\n",
              "    <tr>\n",
              "      <th>22</th>\n",
              "      <td>SriRanganathaswamyTemple</td>\n",
              "      <td>Religious Sites</td>\n",
              "    </tr>\n",
              "    <tr>\n",
              "      <th>23</th>\n",
              "      <td>ArakuValley</td>\n",
              "      <td>Valleys</td>\n",
              "    </tr>\n",
              "    <tr>\n",
              "      <th>24</th>\n",
              "      <td>SrikalahasthiTemple</td>\n",
              "      <td>Religious Sites</td>\n",
              "    </tr>\n",
              "    <tr>\n",
              "      <th>25</th>\n",
              "      <td>DolphinsNose</td>\n",
              "      <td>Landmarks</td>\n",
              "    </tr>\n",
              "    <tr>\n",
              "      <th>26</th>\n",
              "      <td>MGBFelicityMall</td>\n",
              "      <td>Shopping Malls</td>\n",
              "    </tr>\n",
              "    <tr>\n",
              "      <th>27</th>\n",
              "      <td>ISKCONRajahmundrySriSriRadhaGopinathTemple</td>\n",
              "      <td>Religious Sites</td>\n",
              "    </tr>\n",
              "    <tr>\n",
              "      <th>28</th>\n",
              "      <td>GandikotaFort</td>\n",
              "      <td>landmark</td>\n",
              "    </tr>\n",
              "    <tr>\n",
              "      <th>29</th>\n",
              "      <td>JillellamudiAmmaTemple</td>\n",
              "      <td>Religious Sites</td>\n",
              "    </tr>\n",
              "  </tbody>\n",
              "</table>\n",
              "</div>"
            ],
            "text/plain": [
              "                                Tourist Places               Genre\n",
              "0                               TirumalaTemple     Religious Sites\n",
              "1                                   BorraCaves     Caverns & Caves\n",
              "2                   INSKurusuraSubmarineMuseum  Speciality Museums\n",
              "3                                  Kailasagiri               Parks\n",
              "4                              RishikondaBeach             Beaches\n",
              "5                                    TadaFalls          Waterfalls\n",
              "6                                   BelumCaves     Caverns & Caves\n",
              "7                               AhobilamTemple     Religious Sites\n",
              "8      SriDurgaMalleswaraSwamyVarlaDevasthanam     Religious Sites\n",
              "9                   SriMallikarjunaSwamyTemple     Religious Sites\n",
              "10                            NagalapuramFalls          Waterfalls\n",
              "11                                 YaradaBeach             Beaches\n",
              "12                              GodavariBridge             Bridges\n",
              "13                   SriKapileswaraswamiTemple     Religious Sites\n",
              "14                 SriPadmavathiAmmavariTemple     Religious Sites\n",
              "15                            RamaKrishnaBeach             Beaches\n",
              "16                                HorsleyHills               hills\n",
              "17                          PenchalakonaTemple     Religious Sites\n",
              "18                               YagantiTemple     Religious Sites\n",
              "19                                SrivariMettu     Religious Sites\n",
              "20                    CoringaWildlifeSanctuary      Wildlife areas\n",
              "21                                 PushkarGhat     Religious Sites\n",
              "22                    SriRanganathaswamyTemple     Religious Sites\n",
              "23                                 ArakuValley             Valleys\n",
              "24                         SrikalahasthiTemple     Religious Sites\n",
              "25                                DolphinsNose           Landmarks\n",
              "26                             MGBFelicityMall      Shopping Malls\n",
              "27  ISKCONRajahmundrySriSriRadhaGopinathTemple     Religious Sites\n",
              "28                               GandikotaFort            landmark\n",
              "29                      JillellamudiAmmaTemple     Religious Sites"
            ]
          },
          "metadata": {
            "tags": []
          },
          "execution_count": 116
        }
      ]
    },
    {
      "cell_type": "code",
      "metadata": {
        "id": "7UqopIOIJmoO"
      },
      "source": [
        "_1gpq3zsA _1zP41Z7X"
      ],
      "execution_count": 94,
      "outputs": []
    },
    {
      "cell_type": "code",
      "metadata": {
        "id": "b-vVdx57Jms7"
      },
      "source": [
        ""
      ],
      "execution_count": 117,
      "outputs": []
    },
    {
      "cell_type": "markdown",
      "metadata": {
        "id": "fxR4RWIYrFfk"
      },
      "source": [
        "# ***Arunachal Pradesh***"
      ]
    },
    {
      "cell_type": "code",
      "metadata": {
        "id": "tttVrogHJm2Y"
      },
      "source": [
        "html = requests.get('https://www.tripadvisor.in/Attractions-g297589-Activities-a_allAttractions.true-Arunachal_Pradesh.html')"
      ],
      "execution_count": 137,
      "outputs": []
    },
    {
      "cell_type": "code",
      "metadata": {
        "id": "iU_n51AwJm7m"
      },
      "source": [
        "html.status_code\n",
        "bsobj=soup(html.content,'lxml')"
      ],
      "execution_count": 138,
      "outputs": []
    },
    {
      "cell_type": "code",
      "metadata": {
        "id": "M3ZIkFpPJnJw"
      },
      "source": [
        "ArunachalPradesh_tourist_places1 = []\n",
        "for name in bsobj.findAll('div',{'class':'_1gpq3zsA _1zP41Z7X'}):\n",
        "  name=name.text.strip()\n",
        "  name=re.sub(r'[^a-zA-z]', '', name)\n",
        "  ArunachalPradesh_tourist_places1.append(name)"
      ],
      "execution_count": 139,
      "outputs": []
    },
    {
      "cell_type": "code",
      "metadata": {
        "id": "sh9sFbmx09wA",
        "colab": {
          "base_uri": "https://localhost:8080/"
        },
        "outputId": "4b91a9e1-4f92-4835-f1f5-8a32815009ce"
      },
      "source": [
        "ArunachalPradesh_tourist_places1"
      ],
      "execution_count": 140,
      "outputs": [
        {
          "output_type": "execute_result",
          "data": {
            "text/plain": [
              "['SelaPass',\n",
              " 'BumlaPass',\n",
              " 'PangsauPass',\n",
              " 'MadhuriLake',\n",
              " 'MehaoWildlifeSanctuary',\n",
              " 'MechukaValley',\n",
              " 'MehaoLake',\n",
              " 'MayodiyaPass',\n",
              " 'BomdilaMonastery',\n",
              " 'TawangBuddhistMonastery',\n",
              " 'SangtiValley',\n",
              " 'JaswantGarh',\n",
              " 'SallyLake',\n",
              " 'NuranangFalls',\n",
              " 'Gompa',\n",
              " 'DihangBiosphereReserve',\n",
              " 'TheGoldenPagoda',\n",
              " 'NehruVanUdyan',\n",
              " 'ParashuramKunda',\n",
              " 'Nijomaghat',\n",
              " 'TawangWarMemorial',\n",
              " 'TalleyValleyWildlifeSanctuary',\n",
              " 'SirkiWaterfall',\n",
              " 'RukminiNati',\n",
              " 'IphipaniGhat',\n",
              " 'PangatengTsoLake',\n",
              " 'StilwellRoad',\n",
              " 'DayingEringWildlifeSanctuary',\n",
              " 'GangaLake',\n",
              " 'KamponaPond']"
            ]
          },
          "metadata": {
            "tags": []
          },
          "execution_count": 140
        }
      ]
    },
    {
      "cell_type": "code",
      "metadata": {
        "id": "o2L5JDqU1Ce-"
      },
      "source": [
        "temp_genre = []\n",
        "for name in bsobj.findAll('div',{'class':'DrjyGw-P _26S7gyB4 _3SccQt-T'}):\n",
        "  temp_genre.append(name.text.strip())"
      ],
      "execution_count": 141,
      "outputs": []
    },
    {
      "cell_type": "code",
      "metadata": {
        "colab": {
          "base_uri": "https://localhost:8080/"
        },
        "id": "pgRMJJeas_nD",
        "outputId": "65b2b4ba-aecd-4d01-f631-aab0b18b063f"
      },
      "source": [
        "temp_genre"
      ],
      "execution_count": 142,
      "outputs": [
        {
          "output_type": "execute_result",
          "data": {
            "text/plain": [
              "['Things to do ranked using Tripadvisor data including reviews, ratings, photos, and popularity.',\n",
              " 'Highest rated attractions on Tripadvisor, based on traveller reviews.',\n",
              " 'Bodies of Water',\n",
              " 'Picturesque view of the Sela lake Enroute Tawang you may also wish to stop at the JaswantGarh War Memorial where you...',\n",
              " 'Hiking Trails',\n",
              " 'Bumla Pass is located 37 km away from Tawang at the Indo-China border.',\n",
              " 'Historic Walking Areas',\n",
              " 'Bodies of Water',\n",
              " 'Now you understand why there are dead tree trunks coming out of the lake.',\n",
              " 'Nature & Wildlife Areas',\n",
              " 'Valleys',\n",
              " 'Bodies of Water',\n",
              " 'Points of Interest & Landmarks',\n",
              " 'Architectural Buildings • Religious Sites',\n",
              " 'The Monastery celebrates it’s annual Mask Dance festival, and the colour of demons with dramatic musical background s...',\n",
              " 'Religious Sites',\n",
              " 'The buddha statue is just fabulous andbeautiful inside the monastery.',\n",
              " 'Valleys',\n",
              " 'It is a drive through place, where you drive through the valley and enjoy the serene view of the beautiful valley - l...',\n",
              " 'Historic Sites',\n",
              " 'They can very well relate themselves to rifleman Jaswant Singh, who laid down his life during the Indo-Chinese War.',\n",
              " 'Bodies of Water',\n",
              " 'Waterfalls',\n",
              " 'Beautiful waterfall',\n",
              " 'Points of Interest & Landmarks',\n",
              " 'It is the most peaceful and serene place to visit in Itanagar.',\n",
              " 'Points of Interest & Landmarks',\n",
              " 'Points of Interest & Landmarks • Religious Sites',\n",
              " 'A must visit place of Arunachal Pradesh.',\n",
              " 'Parks',\n",
              " 'Religious Sites',\n",
              " 'Parks',\n",
              " 'Monuments & Statues',\n",
              " 'Please do see the light and sound show organised by the army at the backyard of the memorial.',\n",
              " 'Nature & Wildlife Areas',\n",
              " 'Waterfalls',\n",
              " 'Ancient Ruins',\n",
              " 'Points of Interest & Landmarks • Lookouts',\n",
              " 'Bodies of Water',\n",
              " 'This entire trip beyond Tawang to Bumla and Madhuri Lake is just too exciting and breath taking, it leaves you desiri...',\n",
              " 'Historic Walking Areas',\n",
              " 'Named after the US General, this road was built during World War II from India to China.',\n",
              " 'Nature & Wildlife Areas',\n",
              " 'Bodies of Water',\n",
              " 'Bodies of Water',\n",
              " 'Showing results 1-30 of 103']"
            ]
          },
          "metadata": {
            "tags": []
          },
          "execution_count": 142
        }
      ]
    },
    {
      "cell_type": "code",
      "metadata": {
        "id": "enE5zPcJsOHv"
      },
      "source": [
        "ArunachalPradesh_genre= []\n",
        "for t in temp_genre:\n",
        "  if (((len(t))<=30) and t!=\"Open now\"):\n",
        "    ArunachalPradesh_genre.append(t)"
      ],
      "execution_count": 145,
      "outputs": []
    },
    {
      "cell_type": "code",
      "metadata": {
        "id": "f4cV0KC0sQm1"
      },
      "source": [
        "ArunachalPradesh_genre=['Bodies of Water',\n",
        " 'Hiking Trails',\n",
        " 'Historic Walking Areas',\n",
        " 'Bodies of Water',\n",
        " 'Nature and Wildlife Areas',\n",
        " 'Valleys',\n",
        " 'Bodies of Water',\n",
        " 'Points of Interest and Landmarks',\n",
        " 'Religious Sites',\n",
        " 'Religious Sites',\n",
        " 'Valleys',\n",
        " 'Historic Sites',\n",
        " 'Bodies of Water',\n",
        " 'Waterfalls',\n",
        " 'Beautiful waterfall',\n",
        " 'Points of Interest and Landmarks',\n",
        " 'Points of Interest and Landmarks',\n",
        " 'Points of Interest and Landmarks',\n",
        " 'Parks',\n",
        " 'Religious Sites',\n",
        " 'Parks',\n",
        " 'Monuments & Statues',\n",
        " 'Nature & Wildlife Areas',\n",
        " 'Waterfalls',\n",
        " 'Ancient Ruins',\n",
        " 'Points of Interest and Landmarks',\n",
        " 'Bodies of Water',\n",
        " 'Historic Walking Areas',\n",
        " 'Nature and Wildlife Areas',\n",
        " 'Bodies of Water',\n",
        " 'Bodies of Water',]"
      ],
      "execution_count": 147,
      "outputs": []
    },
    {
      "cell_type": "code",
      "metadata": {
        "id": "fNe8c9I8vrF8"
      },
      "source": [
        "df_ArunachalPradesh = {\"Tourist Places\" : ArunachalPradesh_tourist_places1,'Genre' : ap_loc}\n",
        "DF_ArunachalPradesh=pd.DataFrame.from_dict(df_ArunachalPradesh)"
      ],
      "execution_count": 148,
      "outputs": []
    },
    {
      "cell_type": "code",
      "metadata": {
        "colab": {
          "base_uri": "https://localhost:8080/",
          "height": 979
        },
        "id": "FK4ajknqv9IM",
        "outputId": "1e07f441-eaf9-4e63-f361-948eaf83eb2f"
      },
      "source": [
        "DF_ArunachalPradesh"
      ],
      "execution_count": 149,
      "outputs": [
        {
          "output_type": "execute_result",
          "data": {
            "text/html": [
              "<div>\n",
              "<style scoped>\n",
              "    .dataframe tbody tr th:only-of-type {\n",
              "        vertical-align: middle;\n",
              "    }\n",
              "\n",
              "    .dataframe tbody tr th {\n",
              "        vertical-align: top;\n",
              "    }\n",
              "\n",
              "    .dataframe thead th {\n",
              "        text-align: right;\n",
              "    }\n",
              "</style>\n",
              "<table border=\"1\" class=\"dataframe\">\n",
              "  <thead>\n",
              "    <tr style=\"text-align: right;\">\n",
              "      <th></th>\n",
              "      <th>Tourist Places</th>\n",
              "      <th>Genre</th>\n",
              "    </tr>\n",
              "  </thead>\n",
              "  <tbody>\n",
              "    <tr>\n",
              "      <th>0</th>\n",
              "      <td>SelaPass</td>\n",
              "      <td>Religious Sites</td>\n",
              "    </tr>\n",
              "    <tr>\n",
              "      <th>1</th>\n",
              "      <td>BumlaPass</td>\n",
              "      <td>Caverns &amp; Caves</td>\n",
              "    </tr>\n",
              "    <tr>\n",
              "      <th>2</th>\n",
              "      <td>PangsauPass</td>\n",
              "      <td>Speciality Museums</td>\n",
              "    </tr>\n",
              "    <tr>\n",
              "      <th>3</th>\n",
              "      <td>MadhuriLake</td>\n",
              "      <td>Parks</td>\n",
              "    </tr>\n",
              "    <tr>\n",
              "      <th>4</th>\n",
              "      <td>MehaoWildlifeSanctuary</td>\n",
              "      <td>Beaches</td>\n",
              "    </tr>\n",
              "    <tr>\n",
              "      <th>5</th>\n",
              "      <td>MechukaValley</td>\n",
              "      <td>Waterfalls</td>\n",
              "    </tr>\n",
              "    <tr>\n",
              "      <th>6</th>\n",
              "      <td>MehaoLake</td>\n",
              "      <td>Caverns &amp; Caves</td>\n",
              "    </tr>\n",
              "    <tr>\n",
              "      <th>7</th>\n",
              "      <td>MayodiyaPass</td>\n",
              "      <td>Religious Sites</td>\n",
              "    </tr>\n",
              "    <tr>\n",
              "      <th>8</th>\n",
              "      <td>BomdilaMonastery</td>\n",
              "      <td>Religious Sites</td>\n",
              "    </tr>\n",
              "    <tr>\n",
              "      <th>9</th>\n",
              "      <td>TawangBuddhistMonastery</td>\n",
              "      <td>Religious Sites</td>\n",
              "    </tr>\n",
              "    <tr>\n",
              "      <th>10</th>\n",
              "      <td>SangtiValley</td>\n",
              "      <td>Waterfalls</td>\n",
              "    </tr>\n",
              "    <tr>\n",
              "      <th>11</th>\n",
              "      <td>JaswantGarh</td>\n",
              "      <td>Beaches</td>\n",
              "    </tr>\n",
              "    <tr>\n",
              "      <th>12</th>\n",
              "      <td>SallyLake</td>\n",
              "      <td>Bridges</td>\n",
              "    </tr>\n",
              "    <tr>\n",
              "      <th>13</th>\n",
              "      <td>NuranangFalls</td>\n",
              "      <td>Religious Sites</td>\n",
              "    </tr>\n",
              "    <tr>\n",
              "      <th>14</th>\n",
              "      <td>Gompa</td>\n",
              "      <td>Religious Sites</td>\n",
              "    </tr>\n",
              "    <tr>\n",
              "      <th>15</th>\n",
              "      <td>DihangBiosphereReserve</td>\n",
              "      <td>Beaches</td>\n",
              "    </tr>\n",
              "    <tr>\n",
              "      <th>16</th>\n",
              "      <td>TheGoldenPagoda</td>\n",
              "      <td>hills</td>\n",
              "    </tr>\n",
              "    <tr>\n",
              "      <th>17</th>\n",
              "      <td>NehruVanUdyan</td>\n",
              "      <td>Religious Sites</td>\n",
              "    </tr>\n",
              "    <tr>\n",
              "      <th>18</th>\n",
              "      <td>ParashuramKunda</td>\n",
              "      <td>Religious Sites</td>\n",
              "    </tr>\n",
              "    <tr>\n",
              "      <th>19</th>\n",
              "      <td>Nijomaghat</td>\n",
              "      <td>Religious Sites</td>\n",
              "    </tr>\n",
              "    <tr>\n",
              "      <th>20</th>\n",
              "      <td>TawangWarMemorial</td>\n",
              "      <td>Wildlife areas</td>\n",
              "    </tr>\n",
              "    <tr>\n",
              "      <th>21</th>\n",
              "      <td>TalleyValleyWildlifeSanctuary</td>\n",
              "      <td>Religious Sites</td>\n",
              "    </tr>\n",
              "    <tr>\n",
              "      <th>22</th>\n",
              "      <td>SirkiWaterfall</td>\n",
              "      <td>Religious Sites</td>\n",
              "    </tr>\n",
              "    <tr>\n",
              "      <th>23</th>\n",
              "      <td>RukminiNati</td>\n",
              "      <td>Valleys</td>\n",
              "    </tr>\n",
              "    <tr>\n",
              "      <th>24</th>\n",
              "      <td>IphipaniGhat</td>\n",
              "      <td>Religious Sites</td>\n",
              "    </tr>\n",
              "    <tr>\n",
              "      <th>25</th>\n",
              "      <td>PangatengTsoLake</td>\n",
              "      <td>Landmarks</td>\n",
              "    </tr>\n",
              "    <tr>\n",
              "      <th>26</th>\n",
              "      <td>StilwellRoad</td>\n",
              "      <td>Shopping Malls</td>\n",
              "    </tr>\n",
              "    <tr>\n",
              "      <th>27</th>\n",
              "      <td>DayingEringWildlifeSanctuary</td>\n",
              "      <td>Religious Sites</td>\n",
              "    </tr>\n",
              "    <tr>\n",
              "      <th>28</th>\n",
              "      <td>GangaLake</td>\n",
              "      <td>landmark</td>\n",
              "    </tr>\n",
              "    <tr>\n",
              "      <th>29</th>\n",
              "      <td>KamponaPond</td>\n",
              "      <td>Religious Sites</td>\n",
              "    </tr>\n",
              "  </tbody>\n",
              "</table>\n",
              "</div>"
            ],
            "text/plain": [
              "                   Tourist Places               Genre\n",
              "0                        SelaPass     Religious Sites\n",
              "1                       BumlaPass     Caverns & Caves\n",
              "2                     PangsauPass  Speciality Museums\n",
              "3                     MadhuriLake               Parks\n",
              "4          MehaoWildlifeSanctuary             Beaches\n",
              "5                   MechukaValley          Waterfalls\n",
              "6                       MehaoLake     Caverns & Caves\n",
              "7                    MayodiyaPass     Religious Sites\n",
              "8                BomdilaMonastery     Religious Sites\n",
              "9         TawangBuddhistMonastery     Religious Sites\n",
              "10                   SangtiValley          Waterfalls\n",
              "11                    JaswantGarh             Beaches\n",
              "12                      SallyLake             Bridges\n",
              "13                  NuranangFalls     Religious Sites\n",
              "14                          Gompa     Religious Sites\n",
              "15         DihangBiosphereReserve             Beaches\n",
              "16                TheGoldenPagoda               hills\n",
              "17                  NehruVanUdyan     Religious Sites\n",
              "18                ParashuramKunda     Religious Sites\n",
              "19                     Nijomaghat     Religious Sites\n",
              "20              TawangWarMemorial      Wildlife areas\n",
              "21  TalleyValleyWildlifeSanctuary     Religious Sites\n",
              "22                 SirkiWaterfall     Religious Sites\n",
              "23                    RukminiNati             Valleys\n",
              "24                   IphipaniGhat     Religious Sites\n",
              "25               PangatengTsoLake           Landmarks\n",
              "26                   StilwellRoad      Shopping Malls\n",
              "27   DayingEringWildlifeSanctuary     Religious Sites\n",
              "28                      GangaLake            landmark\n",
              "29                    KamponaPond     Religious Sites"
            ]
          },
          "metadata": {
            "tags": []
          },
          "execution_count": 149
        }
      ]
    },
    {
      "cell_type": "markdown",
      "metadata": {
        "id": "hS9K_j7LwKCd"
      },
      "source": [
        "# ***Assam***"
      ]
    },
    {
      "cell_type": "code",
      "metadata": {
        "id": "4uFTBHajwJm4"
      },
      "source": [
        "\n",
        "\n",
        "html = requests.get('https://www.tripadvisor.in/Attractions-g297589-Activities-a_allAttractions.true-Arunachal_Pradesh.html')\n",
        "html.status_code\n",
        "bsobj=soup(html.content,'lxml')\n",
        "# ---------------------------------------------------------------------------------------------------------------------------------------------------\n",
        "# ---------------------------------------------------------------------------------------------------------------------------------------------------\n",
        "ArunachalPradesh_tourist_places1 = []\n",
        "for name in bsobj.findAll('div',{'class':'_1gpq3zsA _1zP41Z7X'}):\n",
        "  name=name.text.strip()\n",
        "  name=re.sub(r'[^a-zA-z]', '', name)\n",
        "  ArunachalPradesh_tourist_places1.append(name)\n",
        "# ---------------------------------------------------------------------------------------------------------------------------------------------------\n",
        "# ---------------------------------------------------------------------------------------------------------------------------------------------------\n",
        "temp_genre = []\n",
        "for name in bsobj.findAll('div',{'class':'DrjyGw-P _26S7gyB4 _3SccQt-T'}):\n",
        "  temp_genre.append(name.text.strip())\n",
        "# ---------------------------------------------------------------------------------------------------------------------------------------------------\n",
        "# ---------------------------------------------------------------------------------------------------------------------------------------------------\n",
        "ArunachalPradesh_genre= []\n",
        "for t in temp_genre:\n",
        "  if (((len(t))<=30) and t!=\"Open now\"):\n",
        "    ArunachalPradesh_genre.append(t)\n",
        "# ---------------------------------------------------------------------------------------------------------------------------------------------------\n",
        "# ---------------------------------------------------------------------------------------------------------------------------------------------------\n",
        "df_ArunachalPradesh = {\"Tourist Places\" : ArunachalPradesh_tourist_places1,'Genre' : ap_loc}\n",
        "DF_ArunachalPradesh=pd.DataFrame.from_dict(df_ArunachalPradesh)"
      ],
      "execution_count": null,
      "outputs": []
    },
    {
      "cell_type": "code",
      "metadata": {
        "id": "wQAnZ516xmZ0"
      },
      "source": [
        "html = requests.get('https://www.tripadvisor.in/Attractions-g297590-Activities-a_allAttractions.true-Assam.html')\n",
        "html.status_code\n",
        "bsobj=soup(html.content,'lxml')"
      ],
      "execution_count": 150,
      "outputs": []
    },
    {
      "cell_type": "code",
      "metadata": {
        "id": "AOO1igK_yEtI"
      },
      "source": [
        "Assam_tourist_places1 = []\n",
        "for name in bsobj.findAll('div',{'class':'_1gpq3zsA _1zP41Z7X'}):\n",
        "  name=name.text.strip()\n",
        "  name=re.sub(r'[^a-zA-z]', '', name)\n",
        "  Assam_tourist_places1.append(name)"
      ],
      "execution_count": 151,
      "outputs": []
    },
    {
      "cell_type": "code",
      "metadata": {
        "colab": {
          "base_uri": "https://localhost:8080/"
        },
        "id": "Fr9uvIpEyNS9",
        "outputId": "7d34f304-dac3-4087-f350-45819c18e1db"
      },
      "source": [
        "Assam_tourist_places1"
      ],
      "execution_count": 152,
      "outputs": [
        {
          "output_type": "execute_result",
          "data": {
            "text/plain": [
              "['KamakhyaTemple',\n",
              " 'PobitoraWildlifeSanctuary',\n",
              " 'UmanandaTemple',\n",
              " 'BrahmaputraRiver',\n",
              " 'PurvaTirupatiShriBalajitemple',\n",
              " 'HoollongaparGibbonSanctuary',\n",
              " 'ChitralekhaUdyan',\n",
              " 'KaliaBhomoraSetu',\n",
              " 'AgnigarhHill',\n",
              " 'NagSankarTemple',\n",
              " 'MahabhairabTemple',\n",
              " 'TocklaiTeaResearchCentre',\n",
              " 'BhupenHazarikaSetuDholaSadiyaBridge',\n",
              " 'NationalInstituteofTechnologySilchar',\n",
              " 'AssamStateZoo',\n",
              " 'FancyBazar',\n",
              " 'Dhekiajuli',\n",
              " 'JagannathTemple',\n",
              " 'SaraighatBridge',\n",
              " 'PanimurWaterfalls',\n",
              " 'BogibeelBridge',\n",
              " 'JaysagarTankandTemples',\n",
              " 'SivasagarPond',\n",
              " 'NavagrahaTemple',\n",
              " 'ShrimantaShankardevaKalakshetra',\n",
              " 'SriKanchaKantiDeviMandir',\n",
              " 'RegionalScienceCenter',\n",
              " 'KazirangaNationalPark',\n",
              " 'ISKCONGuwahati',\n",
              " 'KachariFort']"
            ]
          },
          "metadata": {
            "tags": []
          },
          "execution_count": 152
        }
      ]
    },
    {
      "cell_type": "code",
      "metadata": {
        "id": "XpjWoCAIyQAL"
      },
      "source": [
        "temp_genre = []\n",
        "for name in bsobj.findAll('div',{'class':'DrjyGw-P _26S7gyB4 _3SccQt-T'}):\n",
        "  temp_genre.append(name.text.strip())"
      ],
      "execution_count": 153,
      "outputs": []
    },
    {
      "cell_type": "code",
      "metadata": {
        "colab": {
          "base_uri": "https://localhost:8080/"
        },
        "id": "IP4mV-TiybaS",
        "outputId": "b1bab107-31c1-4e8d-b7eb-24d0d1e671ed"
      },
      "source": [
        "temp_genre"
      ],
      "execution_count": 154,
      "outputs": [
        {
          "output_type": "execute_result",
          "data": {
            "text/plain": [
              "['Things to do ranked using Tripadvisor data including reviews, ratings, photos, and popularity.',\n",
              " 'Highest rated attractions on Tripadvisor, based on traveller reviews.',\n",
              " 'Historic Sites • Religious Sites',\n",
              " 'We purchased a vip pass for ₹501 and had immediate access to the temple gates.',\n",
              " 'Nature & Wildlife Areas',\n",
              " \"It's easy to get around this compact sanctuary and I would strongly recommend that you take the elephant safari for w...\",\n",
              " 'Religious Sites',\n",
              " 'This temple is dedicated to Shiva and Parvati at the top of the Peacock island.',\n",
              " 'Bodies of Water',\n",
              " 'Our cruise included a visit to Majuli Island and the Kaziranga National Park.',\n",
              " 'Religious Sites',\n",
              " 'Layout of temple premises are very Nice,well maintained South Indian Architecture,the garden is very beautiful with p...',\n",
              " 'Nature & Wildlife Areas',\n",
              " 'Speciality is that you have to visit the sanctuary on foot with guides/guards arranged from the park authorities at a...',\n",
              " 'Parks',\n",
              " 'Bridges',\n",
              " 'Historic Sites • Parks',\n",
              " 'Religious Sites',\n",
              " 'Religious Sites',\n",
              " \"Must visit Lord Shiv's temple as it is related to ancient facts & interesting real stories of King's time\",\n",
              " 'Points of Interest & Landmarks',\n",
              " 'I did not have proof of permission to enter and hence I had to see the campus from outside only.',\n",
              " 'Bridges',\n",
              " 'Situated 45 km away from tinsukia,you can drive to roing through this bridge in 3 hours.As you might be thinking that...',\n",
              " 'Universities & Schools',\n",
              " 'Zoos',\n",
              " 'Open now',\n",
              " 'The zoo has a vast variety of animals around 40 with the celebrities being the White & Royal Bengal Tiger 🐅 , 🦁 lio...',\n",
              " 'Points of Interest & Landmarks • Flea & Street Markets',\n",
              " 'Maximum are road side hawkers.',\n",
              " 'Points of Interest & Landmarks',\n",
              " 'Religious Sites',\n",
              " 'This is a replica of the famous Jagannath temple at Puri.',\n",
              " 'Bridges',\n",
              " 'Saraighat bridge, connected the two banks of the mighty Brahmaputra river, The road-cum-rail bridge in Guwahati, inau...',\n",
              " 'Waterfalls',\n",
              " 'Bridges',\n",
              " 'This is one of the longest bridge of Assam.',\n",
              " 'Points of Interest & Landmarks • Religious Sites',\n",
              " 'Bodies of Water',\n",
              " 'Religious Sites',\n",
              " 'It is located on Chitrachal hill in the south-eastern part of the Guwahati city.',\n",
              " 'Points of Interest & Landmarks',\n",
              " \"It provides a platform to showcase the rich culture, art and living of Assam and it's neighborhood.\",\n",
              " 'Religious Sites',\n",
              " 'Educational sites',\n",
              " 'Open now',\n",
              " 'Biology dept, chemistry dept, bio machines dept, Physics dept, electronic depts are note worthy.',\n",
              " 'National Parks',\n",
              " '... and deer.The elephant safari is a must, for the early morning views of the landscapes are too good, almost a surr...',\n",
              " 'Religious Sites',\n",
              " 'Historic Sites',\n",
              " '... area and tourists come here to see the remains of this kingdom at Khaspur which makes the place more interesting.',\n",
              " 'Showing results 1-30 of 321']"
            ]
          },
          "metadata": {
            "tags": []
          },
          "execution_count": 154
        }
      ]
    },
    {
      "cell_type": "code",
      "metadata": {
        "id": "JsLQr-LLyc40"
      },
      "source": [
        "Assam_genre= []\n",
        "for t in temp_genre:\n",
        "  if (((len(t))<=30) and t!=\"Open now\"):\n",
        "    Assam_genre.append(t)"
      ],
      "execution_count": 156,
      "outputs": []
    },
    {
      "cell_type": "code",
      "metadata": {
        "id": "4gTR7DzjyyDX"
      },
      "source": [
        "Assam_genre = ['Historic Sites and Religious Sites',\n",
        "               'Nature & Wildlife Areas',\n",
        "               'Religious Sites',\n",
        "               'Bodies of Water',\n",
        "               'Religious Sites',\n",
        "               'Nature & Wildlife Areas',\n",
        "               'Parks',\n",
        "               'Bridges',\n",
        "               'Historic Sites and  Parks',\n",
        "               'Religious Sites',\n",
        "               'Religious Sites',\n",
        "               'Points of Interest and Landmarks',\n",
        "               'Bridges',\n",
        "               'Universities and Schools',\n",
        "               'Zoos',\n",
        "               'Flea and Street market',\n",
        "               'Points of Interest and Landmarks',\n",
        "               'Religious Sites',\n",
        "               'Bridges',\n",
        "               'Waterfalls',\n",
        "               'Bridges',\n",
        "               'Religious Sites',\n",
        "               'Bodies of Water',\n",
        "               'Religious Sites',\n",
        "               'Points of Interest and Landmarks',\n",
        "               'Religious Sites',\n",
        "               'Educational sites',\n",
        "               'National Parks',\n",
        "               'Religious Sites',\n",
        "               'Historic Sites',]"
      ],
      "execution_count": 165,
      "outputs": []
    },
    {
      "cell_type": "code",
      "metadata": {
        "id": "Z_Cenck4yooq"
      },
      "source": [
        "df_Assam = {\"Tourist Places\" : Assam_tourist_places1,'Genre' : Assam_genre}\n",
        "DF_Assam=pd.DataFrame.from_dict(df_Assam)"
      ],
      "execution_count": 166,
      "outputs": []
    },
    {
      "cell_type": "code",
      "metadata": {
        "colab": {
          "base_uri": "https://localhost:8080/",
          "height": 979
        },
        "id": "huWdJQvRHxBh",
        "outputId": "bbfc9fe5-3c4b-4c2f-ba41-907951d95bc0"
      },
      "source": [
        "DF_Assam"
      ],
      "execution_count": 167,
      "outputs": [
        {
          "output_type": "execute_result",
          "data": {
            "text/html": [
              "<div>\n",
              "<style scoped>\n",
              "    .dataframe tbody tr th:only-of-type {\n",
              "        vertical-align: middle;\n",
              "    }\n",
              "\n",
              "    .dataframe tbody tr th {\n",
              "        vertical-align: top;\n",
              "    }\n",
              "\n",
              "    .dataframe thead th {\n",
              "        text-align: right;\n",
              "    }\n",
              "</style>\n",
              "<table border=\"1\" class=\"dataframe\">\n",
              "  <thead>\n",
              "    <tr style=\"text-align: right;\">\n",
              "      <th></th>\n",
              "      <th>Tourist Places</th>\n",
              "      <th>Genre</th>\n",
              "    </tr>\n",
              "  </thead>\n",
              "  <tbody>\n",
              "    <tr>\n",
              "      <th>0</th>\n",
              "      <td>KamakhyaTemple</td>\n",
              "      <td>Historic Sites and Religious Sites</td>\n",
              "    </tr>\n",
              "    <tr>\n",
              "      <th>1</th>\n",
              "      <td>PobitoraWildlifeSanctuary</td>\n",
              "      <td>Nature &amp; Wildlife Areas</td>\n",
              "    </tr>\n",
              "    <tr>\n",
              "      <th>2</th>\n",
              "      <td>UmanandaTemple</td>\n",
              "      <td>Religious Sites</td>\n",
              "    </tr>\n",
              "    <tr>\n",
              "      <th>3</th>\n",
              "      <td>BrahmaputraRiver</td>\n",
              "      <td>Bodies of Water</td>\n",
              "    </tr>\n",
              "    <tr>\n",
              "      <th>4</th>\n",
              "      <td>PurvaTirupatiShriBalajitemple</td>\n",
              "      <td>Religious Sites</td>\n",
              "    </tr>\n",
              "    <tr>\n",
              "      <th>5</th>\n",
              "      <td>HoollongaparGibbonSanctuary</td>\n",
              "      <td>Nature &amp; Wildlife Areas</td>\n",
              "    </tr>\n",
              "    <tr>\n",
              "      <th>6</th>\n",
              "      <td>ChitralekhaUdyan</td>\n",
              "      <td>Parks</td>\n",
              "    </tr>\n",
              "    <tr>\n",
              "      <th>7</th>\n",
              "      <td>KaliaBhomoraSetu</td>\n",
              "      <td>Bridges</td>\n",
              "    </tr>\n",
              "    <tr>\n",
              "      <th>8</th>\n",
              "      <td>AgnigarhHill</td>\n",
              "      <td>Historic Sites and  Parks</td>\n",
              "    </tr>\n",
              "    <tr>\n",
              "      <th>9</th>\n",
              "      <td>NagSankarTemple</td>\n",
              "      <td>Religious Sites</td>\n",
              "    </tr>\n",
              "    <tr>\n",
              "      <th>10</th>\n",
              "      <td>MahabhairabTemple</td>\n",
              "      <td>Religious Sites</td>\n",
              "    </tr>\n",
              "    <tr>\n",
              "      <th>11</th>\n",
              "      <td>TocklaiTeaResearchCentre</td>\n",
              "      <td>Points of Interest and Landmarks</td>\n",
              "    </tr>\n",
              "    <tr>\n",
              "      <th>12</th>\n",
              "      <td>BhupenHazarikaSetuDholaSadiyaBridge</td>\n",
              "      <td>Bridges</td>\n",
              "    </tr>\n",
              "    <tr>\n",
              "      <th>13</th>\n",
              "      <td>NationalInstituteofTechnologySilchar</td>\n",
              "      <td>Universities and Schools</td>\n",
              "    </tr>\n",
              "    <tr>\n",
              "      <th>14</th>\n",
              "      <td>AssamStateZoo</td>\n",
              "      <td>Zoos</td>\n",
              "    </tr>\n",
              "    <tr>\n",
              "      <th>15</th>\n",
              "      <td>FancyBazar</td>\n",
              "      <td>Flea and Street market</td>\n",
              "    </tr>\n",
              "    <tr>\n",
              "      <th>16</th>\n",
              "      <td>Dhekiajuli</td>\n",
              "      <td>Points of Interest and Landmarks</td>\n",
              "    </tr>\n",
              "    <tr>\n",
              "      <th>17</th>\n",
              "      <td>JagannathTemple</td>\n",
              "      <td>Religious Sites</td>\n",
              "    </tr>\n",
              "    <tr>\n",
              "      <th>18</th>\n",
              "      <td>SaraighatBridge</td>\n",
              "      <td>Bridges</td>\n",
              "    </tr>\n",
              "    <tr>\n",
              "      <th>19</th>\n",
              "      <td>PanimurWaterfalls</td>\n",
              "      <td>Waterfalls</td>\n",
              "    </tr>\n",
              "    <tr>\n",
              "      <th>20</th>\n",
              "      <td>BogibeelBridge</td>\n",
              "      <td>Bridges</td>\n",
              "    </tr>\n",
              "    <tr>\n",
              "      <th>21</th>\n",
              "      <td>JaysagarTankandTemples</td>\n",
              "      <td>Religious Sites</td>\n",
              "    </tr>\n",
              "    <tr>\n",
              "      <th>22</th>\n",
              "      <td>SivasagarPond</td>\n",
              "      <td>Bodies of Water</td>\n",
              "    </tr>\n",
              "    <tr>\n",
              "      <th>23</th>\n",
              "      <td>NavagrahaTemple</td>\n",
              "      <td>Religious Sites</td>\n",
              "    </tr>\n",
              "    <tr>\n",
              "      <th>24</th>\n",
              "      <td>ShrimantaShankardevaKalakshetra</td>\n",
              "      <td>Points of Interest and Landmarks</td>\n",
              "    </tr>\n",
              "    <tr>\n",
              "      <th>25</th>\n",
              "      <td>SriKanchaKantiDeviMandir</td>\n",
              "      <td>Religious Sites</td>\n",
              "    </tr>\n",
              "    <tr>\n",
              "      <th>26</th>\n",
              "      <td>RegionalScienceCenter</td>\n",
              "      <td>Educational sites</td>\n",
              "    </tr>\n",
              "    <tr>\n",
              "      <th>27</th>\n",
              "      <td>KazirangaNationalPark</td>\n",
              "      <td>National Parks</td>\n",
              "    </tr>\n",
              "    <tr>\n",
              "      <th>28</th>\n",
              "      <td>ISKCONGuwahati</td>\n",
              "      <td>Religious Sites</td>\n",
              "    </tr>\n",
              "    <tr>\n",
              "      <th>29</th>\n",
              "      <td>KachariFort</td>\n",
              "      <td>Historic Sites</td>\n",
              "    </tr>\n",
              "  </tbody>\n",
              "</table>\n",
              "</div>"
            ],
            "text/plain": [
              "                          Tourist Places                               Genre\n",
              "0                         KamakhyaTemple  Historic Sites and Religious Sites\n",
              "1              PobitoraWildlifeSanctuary             Nature & Wildlife Areas\n",
              "2                         UmanandaTemple                     Religious Sites\n",
              "3                       BrahmaputraRiver                     Bodies of Water\n",
              "4          PurvaTirupatiShriBalajitemple                     Religious Sites\n",
              "5            HoollongaparGibbonSanctuary             Nature & Wildlife Areas\n",
              "6                       ChitralekhaUdyan                               Parks\n",
              "7                       KaliaBhomoraSetu                             Bridges\n",
              "8                           AgnigarhHill           Historic Sites and  Parks\n",
              "9                        NagSankarTemple                     Religious Sites\n",
              "10                     MahabhairabTemple                     Religious Sites\n",
              "11              TocklaiTeaResearchCentre    Points of Interest and Landmarks\n",
              "12   BhupenHazarikaSetuDholaSadiyaBridge                             Bridges\n",
              "13  NationalInstituteofTechnologySilchar            Universities and Schools\n",
              "14                         AssamStateZoo                                Zoos\n",
              "15                            FancyBazar              Flea and Street market\n",
              "16                            Dhekiajuli    Points of Interest and Landmarks\n",
              "17                       JagannathTemple                     Religious Sites\n",
              "18                       SaraighatBridge                             Bridges\n",
              "19                     PanimurWaterfalls                          Waterfalls\n",
              "20                        BogibeelBridge                             Bridges\n",
              "21                JaysagarTankandTemples                     Religious Sites\n",
              "22                         SivasagarPond                     Bodies of Water\n",
              "23                       NavagrahaTemple                     Religious Sites\n",
              "24       ShrimantaShankardevaKalakshetra    Points of Interest and Landmarks\n",
              "25              SriKanchaKantiDeviMandir                     Religious Sites\n",
              "26                 RegionalScienceCenter                   Educational sites\n",
              "27                 KazirangaNationalPark                      National Parks\n",
              "28                        ISKCONGuwahati                     Religious Sites\n",
              "29                           KachariFort                      Historic Sites"
            ]
          },
          "metadata": {
            "tags": []
          },
          "execution_count": 167
        }
      ]
    },
    {
      "cell_type": "code",
      "metadata": {
        "id": "zxHbtBjJJXTi"
      },
      "source": [
        "final_df=pd.concat([DF_AndraPradesh,DF_ArunachalPradesh],ignore_index=True)"
      ],
      "execution_count": 234,
      "outputs": []
    },
    {
      "cell_type": "code",
      "metadata": {
        "id": "Vm_vdkpBJws6"
      },
      "source": [
        "final_df=pd.concat([final_df,DF_Assam],ignore_index=True)"
      ],
      "execution_count": 235,
      "outputs": []
    },
    {
      "cell_type": "code",
      "metadata": {
        "colab": {
          "base_uri": "https://localhost:8080/"
        },
        "id": "vbSqOFZzJyNf",
        "outputId": "ea84f3b6-9fb8-4585-ba79-54481cf73e43"
      },
      "source": [
        "final_df.shape"
      ],
      "execution_count": 236,
      "outputs": [
        {
          "output_type": "execute_result",
          "data": {
            "text/plain": [
              "(90, 2)"
            ]
          },
          "metadata": {
            "tags": []
          },
          "execution_count": 236
        }
      ]
    },
    {
      "cell_type": "code",
      "metadata": {
        "colab": {
          "base_uri": "https://localhost:8080/"
        },
        "id": "_CTt2yoeKOap",
        "outputId": "8548289e-39e7-4774-c46d-d0e1e15dfbf1"
      },
      "source": [
        "!pip install tensorflow==1.13.1"
      ],
      "execution_count": 174,
      "outputs": [
        {
          "output_type": "stream",
          "text": [
            "Collecting tensorflow==1.13.1\n",
            "\u001b[?25l  Downloading https://files.pythonhosted.org/packages/d4/29/6b4f1e02417c3a1ccc85380f093556ffd0b35dc354078074c5195c8447f2/tensorflow-1.13.1-cp37-cp37m-manylinux1_x86_64.whl (92.6MB)\n",
            "\u001b[K     |████████████████████████████████| 92.6MB 99kB/s \n",
            "\u001b[?25hCollecting tensorflow-estimator<1.14.0rc0,>=1.13.0\n",
            "\u001b[?25l  Downloading https://files.pythonhosted.org/packages/bb/48/13f49fc3fa0fdf916aa1419013bb8f2ad09674c275b4046d5ee669a46873/tensorflow_estimator-1.13.0-py2.py3-none-any.whl (367kB)\n",
            "\u001b[K     |████████████████████████████████| 368kB 40.5MB/s \n",
            "\u001b[?25hRequirement already satisfied: numpy>=1.13.3 in /usr/local/lib/python3.7/dist-packages (from tensorflow==1.13.1) (1.19.5)\n",
            "Requirement already satisfied: six>=1.10.0 in /usr/local/lib/python3.7/dist-packages (from tensorflow==1.13.1) (1.15.0)\n",
            "Requirement already satisfied: termcolor>=1.1.0 in /usr/local/lib/python3.7/dist-packages (from tensorflow==1.13.1) (1.1.0)\n",
            "Requirement already satisfied: keras-preprocessing>=1.0.5 in /usr/local/lib/python3.7/dist-packages (from tensorflow==1.13.1) (1.1.2)\n",
            "Requirement already satisfied: absl-py>=0.1.6 in /usr/local/lib/python3.7/dist-packages (from tensorflow==1.13.1) (0.12.0)\n",
            "Requirement already satisfied: grpcio>=1.8.6 in /usr/local/lib/python3.7/dist-packages (from tensorflow==1.13.1) (1.34.1)\n",
            "Collecting keras-applications>=1.0.6\n",
            "\u001b[?25l  Downloading https://files.pythonhosted.org/packages/71/e3/19762fdfc62877ae9102edf6342d71b28fbfd9dea3d2f96a882ce099b03f/Keras_Applications-1.0.8-py3-none-any.whl (50kB)\n",
            "\u001b[K     |████████████████████████████████| 51kB 6.0MB/s \n",
            "\u001b[?25hRequirement already satisfied: wheel>=0.26 in /usr/local/lib/python3.7/dist-packages (from tensorflow==1.13.1) (0.36.2)\n",
            "Requirement already satisfied: astor>=0.6.0 in /usr/local/lib/python3.7/dist-packages (from tensorflow==1.13.1) (0.8.1)\n",
            "Requirement already satisfied: gast>=0.2.0 in /usr/local/lib/python3.7/dist-packages (from tensorflow==1.13.1) (0.4.0)\n",
            "Requirement already satisfied: protobuf>=3.6.1 in /usr/local/lib/python3.7/dist-packages (from tensorflow==1.13.1) (3.12.4)\n",
            "Collecting tensorboard<1.14.0,>=1.13.0\n",
            "\u001b[?25l  Downloading https://files.pythonhosted.org/packages/0f/39/bdd75b08a6fba41f098b6cb091b9e8c7a80e1b4d679a581a0ccd17b10373/tensorboard-1.13.1-py3-none-any.whl (3.2MB)\n",
            "\u001b[K     |████████████████████████████████| 3.2MB 39.7MB/s \n",
            "\u001b[?25hCollecting mock>=2.0.0\n",
            "  Downloading https://files.pythonhosted.org/packages/5c/03/b7e605db4a57c0f6fba744b11ef3ddf4ddebcada35022927a2b5fc623fdf/mock-4.0.3-py3-none-any.whl\n",
            "Requirement already satisfied: h5py in /usr/local/lib/python3.7/dist-packages (from keras-applications>=1.0.6->tensorflow==1.13.1) (3.1.0)\n",
            "Requirement already satisfied: setuptools in /usr/local/lib/python3.7/dist-packages (from protobuf>=3.6.1->tensorflow==1.13.1) (57.0.0)\n",
            "Requirement already satisfied: markdown>=2.6.8 in /usr/local/lib/python3.7/dist-packages (from tensorboard<1.14.0,>=1.13.0->tensorflow==1.13.1) (3.3.4)\n",
            "Requirement already satisfied: werkzeug>=0.11.15 in /usr/local/lib/python3.7/dist-packages (from tensorboard<1.14.0,>=1.13.0->tensorflow==1.13.1) (1.0.1)\n",
            "Requirement already satisfied: cached-property; python_version < \"3.8\" in /usr/local/lib/python3.7/dist-packages (from h5py->keras-applications>=1.0.6->tensorflow==1.13.1) (1.5.2)\n",
            "Requirement already satisfied: importlib-metadata; python_version < \"3.8\" in /usr/local/lib/python3.7/dist-packages (from markdown>=2.6.8->tensorboard<1.14.0,>=1.13.0->tensorflow==1.13.1) (4.5.0)\n",
            "Requirement already satisfied: typing-extensions>=3.6.4; python_version < \"3.8\" in /usr/local/lib/python3.7/dist-packages (from importlib-metadata; python_version < \"3.8\"->markdown>=2.6.8->tensorboard<1.14.0,>=1.13.0->tensorflow==1.13.1) (3.7.4.3)\n",
            "Requirement already satisfied: zipp>=0.5 in /usr/local/lib/python3.7/dist-packages (from importlib-metadata; python_version < \"3.8\"->markdown>=2.6.8->tensorboard<1.14.0,>=1.13.0->tensorflow==1.13.1) (3.4.1)\n",
            "\u001b[31mERROR: kapre 0.3.5 has requirement tensorflow>=2.0.0, but you'll have tensorflow 1.13.1 which is incompatible.\u001b[0m\n",
            "Installing collected packages: mock, tensorflow-estimator, keras-applications, tensorboard, tensorflow\n",
            "  Found existing installation: tensorflow-estimator 2.5.0\n",
            "    Uninstalling tensorflow-estimator-2.5.0:\n",
            "      Successfully uninstalled tensorflow-estimator-2.5.0\n",
            "  Found existing installation: tensorboard 2.5.0\n",
            "    Uninstalling tensorboard-2.5.0:\n",
            "      Successfully uninstalled tensorboard-2.5.0\n",
            "  Found existing installation: tensorflow 2.5.0\n",
            "    Uninstalling tensorflow-2.5.0:\n",
            "      Successfully uninstalled tensorflow-2.5.0\n",
            "Successfully installed keras-applications-1.0.8 mock-4.0.3 tensorboard-1.13.1 tensorflow-1.13.1 tensorflow-estimator-1.13.0\n"
          ],
          "name": "stdout"
        }
      ]
    },
    {
      "cell_type": "code",
      "metadata": {
        "colab": {
          "base_uri": "https://localhost:8080/"
        },
        "id": "pImrbQyJL22I",
        "outputId": "10677c9b-a47e-4889-8f15-9b60757fc733"
      },
      "source": [
        "import tensorflow as tf"
      ],
      "execution_count": 175,
      "outputs": [
        {
          "output_type": "stream",
          "text": [
            "/usr/local/lib/python3.7/dist-packages/tensorflow/python/framework/dtypes.py:526: FutureWarning: Passing (type, 1) or '1type' as a synonym of type is deprecated; in a future version of numpy, it will be understood as (type, (1,)) / '(1,)type'.\n",
            "  _np_qint8 = np.dtype([(\"qint8\", np.int8, 1)])\n",
            "/usr/local/lib/python3.7/dist-packages/tensorflow/python/framework/dtypes.py:527: FutureWarning: Passing (type, 1) or '1type' as a synonym of type is deprecated; in a future version of numpy, it will be understood as (type, (1,)) / '(1,)type'.\n",
            "  _np_quint8 = np.dtype([(\"quint8\", np.uint8, 1)])\n",
            "/usr/local/lib/python3.7/dist-packages/tensorflow/python/framework/dtypes.py:528: FutureWarning: Passing (type, 1) or '1type' as a synonym of type is deprecated; in a future version of numpy, it will be understood as (type, (1,)) / '(1,)type'.\n",
            "  _np_qint16 = np.dtype([(\"qint16\", np.int16, 1)])\n",
            "/usr/local/lib/python3.7/dist-packages/tensorflow/python/framework/dtypes.py:529: FutureWarning: Passing (type, 1) or '1type' as a synonym of type is deprecated; in a future version of numpy, it will be understood as (type, (1,)) / '(1,)type'.\n",
            "  _np_quint16 = np.dtype([(\"quint16\", np.uint16, 1)])\n",
            "/usr/local/lib/python3.7/dist-packages/tensorflow/python/framework/dtypes.py:530: FutureWarning: Passing (type, 1) or '1type' as a synonym of type is deprecated; in a future version of numpy, it will be understood as (type, (1,)) / '(1,)type'.\n",
            "  _np_qint32 = np.dtype([(\"qint32\", np.int32, 1)])\n",
            "/usr/local/lib/python3.7/dist-packages/tensorflow/python/framework/dtypes.py:535: FutureWarning: Passing (type, 1) or '1type' as a synonym of type is deprecated; in a future version of numpy, it will be understood as (type, (1,)) / '(1,)type'.\n",
            "  np_resource = np.dtype([(\"resource\", np.ubyte, 1)])\n"
          ],
          "name": "stderr"
        }
      ]
    },
    {
      "cell_type": "code",
      "metadata": {
        "id": "XWWgqOPtMRK1"
      },
      "source": [
        "tf.enable_eager_execution()"
      ],
      "execution_count": 177,
      "outputs": []
    },
    {
      "cell_type": "code",
      "metadata": {
        "id": "q-i7ChlQMXSp"
      },
      "source": [
        "places= []\n",
        "for p in final_df['Tourist Places'] :\n",
        "  places.append(p)"
      ],
      "execution_count": 192,
      "outputs": []
    },
    {
      "cell_type": "code",
      "metadata": {
        "colab": {
          "base_uri": "https://localhost:8080/",
          "height": 419
        },
        "id": "HPco8ORPM2EI",
        "outputId": "c5cf94ef-fca5-4209-97c0-2e9f5e91abdc"
      },
      "source": [
        "final_df"
      ],
      "execution_count": 237,
      "outputs": [
        {
          "output_type": "execute_result",
          "data": {
            "text/html": [
              "<div>\n",
              "<style scoped>\n",
              "    .dataframe tbody tr th:only-of-type {\n",
              "        vertical-align: middle;\n",
              "    }\n",
              "\n",
              "    .dataframe tbody tr th {\n",
              "        vertical-align: top;\n",
              "    }\n",
              "\n",
              "    .dataframe thead th {\n",
              "        text-align: right;\n",
              "    }\n",
              "</style>\n",
              "<table border=\"1\" class=\"dataframe\">\n",
              "  <thead>\n",
              "    <tr style=\"text-align: right;\">\n",
              "      <th></th>\n",
              "      <th>Tourist Places</th>\n",
              "      <th>Genre</th>\n",
              "    </tr>\n",
              "  </thead>\n",
              "  <tbody>\n",
              "    <tr>\n",
              "      <th>0</th>\n",
              "      <td>TirumalaTemple</td>\n",
              "      <td>Religious Sites</td>\n",
              "    </tr>\n",
              "    <tr>\n",
              "      <th>1</th>\n",
              "      <td>BorraCaves</td>\n",
              "      <td>Caverns &amp; Caves</td>\n",
              "    </tr>\n",
              "    <tr>\n",
              "      <th>2</th>\n",
              "      <td>INSKurusuraSubmarineMuseum</td>\n",
              "      <td>Speciality Museums</td>\n",
              "    </tr>\n",
              "    <tr>\n",
              "      <th>3</th>\n",
              "      <td>Kailasagiri</td>\n",
              "      <td>Parks</td>\n",
              "    </tr>\n",
              "    <tr>\n",
              "      <th>4</th>\n",
              "      <td>RishikondaBeach</td>\n",
              "      <td>Beaches</td>\n",
              "    </tr>\n",
              "    <tr>\n",
              "      <th>...</th>\n",
              "      <td>...</td>\n",
              "      <td>...</td>\n",
              "    </tr>\n",
              "    <tr>\n",
              "      <th>85</th>\n",
              "      <td>SriKanchaKantiDeviMandir</td>\n",
              "      <td>Religious Sites</td>\n",
              "    </tr>\n",
              "    <tr>\n",
              "      <th>86</th>\n",
              "      <td>RegionalScienceCenter</td>\n",
              "      <td>Educational sites</td>\n",
              "    </tr>\n",
              "    <tr>\n",
              "      <th>87</th>\n",
              "      <td>KazirangaNationalPark</td>\n",
              "      <td>National Parks</td>\n",
              "    </tr>\n",
              "    <tr>\n",
              "      <th>88</th>\n",
              "      <td>ISKCONGuwahati</td>\n",
              "      <td>Religious Sites</td>\n",
              "    </tr>\n",
              "    <tr>\n",
              "      <th>89</th>\n",
              "      <td>KachariFort</td>\n",
              "      <td>Historic Sites</td>\n",
              "    </tr>\n",
              "  </tbody>\n",
              "</table>\n",
              "<p>90 rows × 2 columns</p>\n",
              "</div>"
            ],
            "text/plain": [
              "                Tourist Places               Genre\n",
              "0               TirumalaTemple     Religious Sites\n",
              "1                   BorraCaves     Caverns & Caves\n",
              "2   INSKurusuraSubmarineMuseum  Speciality Museums\n",
              "3                  Kailasagiri               Parks\n",
              "4              RishikondaBeach             Beaches\n",
              "..                         ...                 ...\n",
              "85    SriKanchaKantiDeviMandir     Religious Sites\n",
              "86       RegionalScienceCenter   Educational sites\n",
              "87       KazirangaNationalPark      National Parks\n",
              "88              ISKCONGuwahati     Religious Sites\n",
              "89                 KachariFort      Historic Sites\n",
              "\n",
              "[90 rows x 2 columns]"
            ]
          },
          "metadata": {
            "tags": []
          },
          "execution_count": 237
        }
      ]
    },
    {
      "cell_type": "code",
      "metadata": {
        "colab": {
          "base_uri": "https://localhost:8080/"
        },
        "id": "Ezm6WxoOOCEn",
        "outputId": "5af64100-c340-4ab2-b2ca-47aee6b0f2ce"
      },
      "source": [
        "Genre"
      ],
      "execution_count": 199,
      "outputs": [
        {
          "output_type": "execute_result",
          "data": {
            "text/plain": [
              "['Religious Sites',\n",
              " 'Caverns & Caves',\n",
              " 'Speciality Museums',\n",
              " 'Parks',\n",
              " 'Beaches',\n",
              " 'Waterfalls',\n",
              " 'Caverns & Caves',\n",
              " 'Religious Sites',\n",
              " 'Religious Sites',\n",
              " 'Religious Sites',\n",
              " 'Waterfalls',\n",
              " 'Beaches',\n",
              " 'Bridges',\n",
              " 'Religious Sites',\n",
              " 'Religious Sites',\n",
              " 'Beaches',\n",
              " 'hills',\n",
              " 'Religious Sites',\n",
              " 'Religious Sites',\n",
              " 'Religious Sites',\n",
              " 'Wildlife areas',\n",
              " 'Religious Sites',\n",
              " 'Religious Sites',\n",
              " 'Valleys',\n",
              " 'Religious Sites',\n",
              " 'Landmarks',\n",
              " 'Shopping Malls',\n",
              " 'Religious Sites',\n",
              " 'landmark',\n",
              " 'Religious Sites',\n",
              " 'Religious Sites',\n",
              " 'Caverns & Caves',\n",
              " 'Speciality Museums',\n",
              " 'Parks',\n",
              " 'Beaches',\n",
              " 'Waterfalls',\n",
              " 'Caverns & Caves',\n",
              " 'Religious Sites',\n",
              " 'Religious Sites',\n",
              " 'Religious Sites',\n",
              " 'Waterfalls',\n",
              " 'Beaches',\n",
              " 'Bridges',\n",
              " 'Religious Sites',\n",
              " 'Religious Sites',\n",
              " 'Beaches',\n",
              " 'hills',\n",
              " 'Religious Sites',\n",
              " 'Religious Sites',\n",
              " 'Religious Sites',\n",
              " 'Wildlife areas',\n",
              " 'Religious Sites',\n",
              " 'Religious Sites',\n",
              " 'Valleys',\n",
              " 'Religious Sites',\n",
              " 'Landmarks',\n",
              " 'Shopping Malls',\n",
              " 'Religious Sites',\n",
              " 'landmark',\n",
              " 'Religious Sites',\n",
              " 'Historic Sites and Religious Sites',\n",
              " 'Nature & Wildlife Areas',\n",
              " 'Religious Sites',\n",
              " 'Bodies of Water',\n",
              " 'Religious Sites',\n",
              " 'Nature & Wildlife Areas',\n",
              " 'Parks',\n",
              " 'Bridges',\n",
              " 'Historic Sites and  Parks',\n",
              " 'Religious Sites',\n",
              " 'Religious Sites',\n",
              " 'Points of Interest and Landmarks',\n",
              " 'Bridges',\n",
              " 'Universities and Schools',\n",
              " 'Zoos',\n",
              " 'Flea and Street market',\n",
              " 'Points of Interest and Landmarks',\n",
              " 'Religious Sites',\n",
              " 'Bridges',\n",
              " 'Waterfalls',\n",
              " 'Bridges',\n",
              " 'Religious Sites',\n",
              " 'Bodies of Water',\n",
              " 'Religious Sites',\n",
              " 'Points of Interest and Landmarks',\n",
              " 'Religious Sites',\n",
              " 'Educational sites',\n",
              " 'National Parks',\n",
              " 'Religious Sites',\n",
              " 'Historic Sites']"
            ]
          },
          "metadata": {
            "tags": []
          },
          "execution_count": 199
        }
      ]
    },
    {
      "cell_type": "code",
      "metadata": {
        "id": "LULlmAfNOEpT"
      },
      "source": [
        "users=['David','John','Miguel']"
      ],
      "execution_count": 196,
      "outputs": []
    },
    {
      "cell_type": "code",
      "metadata": {
        "id": "8nYIh3keOEzI"
      },
      "source": [
        "def create_soup(x):\n",
        "    return ' '.join(x['Genre'])\n",
        "final_df['soup'] = final_df.apply(create_soup, axis=1)"
      ],
      "execution_count": 203,
      "outputs": []
    },
    {
      "cell_type": "code",
      "metadata": {
        "colab": {
          "base_uri": "https://localhost:8080/",
          "height": 419
        },
        "id": "58O-ORRdOE8U",
        "outputId": "6d8cb5f1-f9e5-4f8a-d315-763a6280a9f1"
      },
      "source": [
        "final_df"
      ],
      "execution_count": 204,
      "outputs": [
        {
          "output_type": "execute_result",
          "data": {
            "text/html": [
              "<div>\n",
              "<style scoped>\n",
              "    .dataframe tbody tr th:only-of-type {\n",
              "        vertical-align: middle;\n",
              "    }\n",
              "\n",
              "    .dataframe tbody tr th {\n",
              "        vertical-align: top;\n",
              "    }\n",
              "\n",
              "    .dataframe thead th {\n",
              "        text-align: right;\n",
              "    }\n",
              "</style>\n",
              "<table border=\"1\" class=\"dataframe\">\n",
              "  <thead>\n",
              "    <tr style=\"text-align: right;\">\n",
              "      <th></th>\n",
              "      <th>Tourist Places</th>\n",
              "      <th>Genre</th>\n",
              "      <th>soup</th>\n",
              "    </tr>\n",
              "  </thead>\n",
              "  <tbody>\n",
              "    <tr>\n",
              "      <th>0</th>\n",
              "      <td>TirumalaTemple</td>\n",
              "      <td>Religious Sites</td>\n",
              "      <td>R e l i g i o u s   S i t e s</td>\n",
              "    </tr>\n",
              "    <tr>\n",
              "      <th>1</th>\n",
              "      <td>BorraCaves</td>\n",
              "      <td>Caverns &amp; Caves</td>\n",
              "      <td>C a v e r n s   &amp;   C a v e s</td>\n",
              "    </tr>\n",
              "    <tr>\n",
              "      <th>2</th>\n",
              "      <td>INSKurusuraSubmarineMuseum</td>\n",
              "      <td>Speciality Museums</td>\n",
              "      <td>S p e c i a l i t y   M u s e u m s</td>\n",
              "    </tr>\n",
              "    <tr>\n",
              "      <th>3</th>\n",
              "      <td>Kailasagiri</td>\n",
              "      <td>Parks</td>\n",
              "      <td>P a r k s</td>\n",
              "    </tr>\n",
              "    <tr>\n",
              "      <th>4</th>\n",
              "      <td>RishikondaBeach</td>\n",
              "      <td>Beaches</td>\n",
              "      <td>B e a c h e s</td>\n",
              "    </tr>\n",
              "    <tr>\n",
              "      <th>...</th>\n",
              "      <td>...</td>\n",
              "      <td>...</td>\n",
              "      <td>...</td>\n",
              "    </tr>\n",
              "    <tr>\n",
              "      <th>85</th>\n",
              "      <td>SriKanchaKantiDeviMandir</td>\n",
              "      <td>Religious Sites</td>\n",
              "      <td>R e l i g i o u s   S i t e s</td>\n",
              "    </tr>\n",
              "    <tr>\n",
              "      <th>86</th>\n",
              "      <td>RegionalScienceCenter</td>\n",
              "      <td>Educational sites</td>\n",
              "      <td>E d u c a t i o n a l   s i t e s</td>\n",
              "    </tr>\n",
              "    <tr>\n",
              "      <th>87</th>\n",
              "      <td>KazirangaNationalPark</td>\n",
              "      <td>National Parks</td>\n",
              "      <td>N a t i o n a l   P a r k s</td>\n",
              "    </tr>\n",
              "    <tr>\n",
              "      <th>88</th>\n",
              "      <td>ISKCONGuwahati</td>\n",
              "      <td>Religious Sites</td>\n",
              "      <td>R e l i g i o u s   S i t e s</td>\n",
              "    </tr>\n",
              "    <tr>\n",
              "      <th>89</th>\n",
              "      <td>KachariFort</td>\n",
              "      <td>Historic Sites</td>\n",
              "      <td>H i s t o r i c   S i t e s</td>\n",
              "    </tr>\n",
              "  </tbody>\n",
              "</table>\n",
              "<p>90 rows × 3 columns</p>\n",
              "</div>"
            ],
            "text/plain": [
              "                Tourist Places  ...                                 soup\n",
              "0               TirumalaTemple  ...        R e l i g i o u s   S i t e s\n",
              "1                   BorraCaves  ...        C a v e r n s   &   C a v e s\n",
              "2   INSKurusuraSubmarineMuseum  ...  S p e c i a l i t y   M u s e u m s\n",
              "3                  Kailasagiri  ...                            P a r k s\n",
              "4              RishikondaBeach  ...                        B e a c h e s\n",
              "..                         ...  ...                                  ...\n",
              "85    SriKanchaKantiDeviMandir  ...        R e l i g i o u s   S i t e s\n",
              "86       RegionalScienceCenter  ...    E d u c a t i o n a l   s i t e s\n",
              "87       KazirangaNationalPark  ...          N a t i o n a l   P a r k s\n",
              "88              ISKCONGuwahati  ...        R e l i g i o u s   S i t e s\n",
              "89                 KachariFort  ...          H i s t o r i c   S i t e s\n",
              "\n",
              "[90 rows x 3 columns]"
            ]
          },
          "metadata": {
            "tags": []
          },
          "execution_count": 204
        }
      ]
    },
    {
      "cell_type": "code",
      "metadata": {
        "id": "SnAak1r3OFEx"
      },
      "source": [
        "from sklearn.feature_extraction.text import CountVectorizer\n",
        "\n",
        "count = CountVectorizer(stop_words='english')\n",
        "count_matrix = count.fit_transform(final_df['Genre'])"
      ],
      "execution_count": 208,
      "outputs": []
    },
    {
      "cell_type": "code",
      "metadata": {
        "id": "5qCEIs-GOFR3"
      },
      "source": [
        "from sklearn.metrics.pairwise import cosine_similarity\n",
        "\n",
        "cosine_sim2 = cosine_similarity(count_matrix, count_matrix)"
      ],
      "execution_count": 209,
      "outputs": []
    },
    {
      "cell_type": "code",
      "metadata": {
        "id": "npjMN-DGkk_q"
      },
      "source": [
        "final_df = final_df.reset_index()\n",
        "indices = pd.Series(final_df.index, index=final_df['Tourist Places'])"
      ],
      "execution_count": 210,
      "outputs": []
    },
    {
      "cell_type": "code",
      "metadata": {
        "colab": {
          "base_uri": "https://localhost:8080/"
        },
        "id": "NKQBSRUhlo0_",
        "outputId": "6c1018e6-2bd5-498c-e512-0f41d3bfa111"
      },
      "source": [
        "from sklearn.feature_extraction.text import TfidfVectorizer\n",
        "\n",
        "#Define a TF-IDF Vectorizer Object. Remove all english stop words such as 'the', 'a'\n",
        "tfidf = TfidfVectorizer(stop_words='english')\n",
        "\n",
        "#Construct the required TF-IDF matrix by fitting and transforming the data\n",
        "tfidf_matrix = tfidf.fit_transform(final_df['Tourist Places'])\n",
        "\n",
        "#Output the shape of tfidf_matrix\n",
        "tfidf_matrix.shape"
      ],
      "execution_count": 215,
      "outputs": [
        {
          "output_type": "execute_result",
          "data": {
            "text/plain": [
              "(90, 90)"
            ]
          },
          "metadata": {
            "tags": []
          },
          "execution_count": 215
        }
      ]
    },
    {
      "cell_type": "code",
      "metadata": {
        "id": "ZyBAybDalBhb"
      },
      "source": [
        "from sklearn.metrics.pairwise import linear_kernel\n",
        "cosine_sim = linear_kernel(tfidf_matrix, tfidf_matrix)"
      ],
      "execution_count": 216,
      "outputs": []
    },
    {
      "cell_type": "code",
      "metadata": {
        "id": "TA_KcG0klBtp"
      },
      "source": [
        "def get_recommendations(title, cosine_sim=cosine_sim):\n",
        "    idx = indices[title]\n",
        "\n",
        "    sim_scores = list(enumerate(cosine_sim[idx]))\n",
        "\n",
        "    sim_scores = sorted(sim_scores, key=lambda x: x[1], reverse=True)\n",
        "\n",
        "    sim_scores = sim_scores[1:11]\n",
        "\n",
        "    place_indices = [i[0] for i in sim_scores]\n",
        "\n",
        "    return final_df['Tourist Places'].iloc[place_indices]"
      ],
      "execution_count": 219,
      "outputs": []
    },
    {
      "cell_type": "code",
      "metadata": {
        "colab": {
          "base_uri": "https://localhost:8080/"
        },
        "id": "ZN37sdSFky0P",
        "outputId": "53c85bce-192d-487e-dd85-d44f7502f8f3"
      },
      "source": [
        "get_recommendations('KaliaBhomoraSetu', cosine_sim)"
      ],
      "execution_count": 225,
      "outputs": [
        {
          "output_type": "execute_result",
          "data": {
            "text/plain": [
              "0                             TirumalaTemple\n",
              "1                                 BorraCaves\n",
              "2                 INSKurusuraSubmarineMuseum\n",
              "3                                Kailasagiri\n",
              "4                            RishikondaBeach\n",
              "5                                  TadaFalls\n",
              "6                                 BelumCaves\n",
              "7                             AhobilamTemple\n",
              "8    SriDurgaMalleswaraSwamyVarlaDevasthanam\n",
              "9                 SriMallikarjunaSwamyTemple\n",
              "Name: Tourist Places, dtype: object"
            ]
          },
          "metadata": {
            "tags": []
          },
          "execution_count": 225
        }
      ]
    },
    {
      "cell_type": "code",
      "metadata": {
        "colab": {
          "base_uri": "https://localhost:8080/",
          "height": 419
        },
        "id": "CJdxH8TRnes7",
        "outputId": "18a1af69-927e-4704-94d6-944686bc5583"
      },
      "source": [
        "final_df"
      ],
      "execution_count": 238,
      "outputs": [
        {
          "output_type": "execute_result",
          "data": {
            "text/html": [
              "<div>\n",
              "<style scoped>\n",
              "    .dataframe tbody tr th:only-of-type {\n",
              "        vertical-align: middle;\n",
              "    }\n",
              "\n",
              "    .dataframe tbody tr th {\n",
              "        vertical-align: top;\n",
              "    }\n",
              "\n",
              "    .dataframe thead th {\n",
              "        text-align: right;\n",
              "    }\n",
              "</style>\n",
              "<table border=\"1\" class=\"dataframe\">\n",
              "  <thead>\n",
              "    <tr style=\"text-align: right;\">\n",
              "      <th></th>\n",
              "      <th>Tourist Places</th>\n",
              "      <th>Genre</th>\n",
              "    </tr>\n",
              "  </thead>\n",
              "  <tbody>\n",
              "    <tr>\n",
              "      <th>0</th>\n",
              "      <td>TirumalaTemple</td>\n",
              "      <td>Religious Sites</td>\n",
              "    </tr>\n",
              "    <tr>\n",
              "      <th>1</th>\n",
              "      <td>BorraCaves</td>\n",
              "      <td>Caverns &amp; Caves</td>\n",
              "    </tr>\n",
              "    <tr>\n",
              "      <th>2</th>\n",
              "      <td>INSKurusuraSubmarineMuseum</td>\n",
              "      <td>Speciality Museums</td>\n",
              "    </tr>\n",
              "    <tr>\n",
              "      <th>3</th>\n",
              "      <td>Kailasagiri</td>\n",
              "      <td>Parks</td>\n",
              "    </tr>\n",
              "    <tr>\n",
              "      <th>4</th>\n",
              "      <td>RishikondaBeach</td>\n",
              "      <td>Beaches</td>\n",
              "    </tr>\n",
              "    <tr>\n",
              "      <th>...</th>\n",
              "      <td>...</td>\n",
              "      <td>...</td>\n",
              "    </tr>\n",
              "    <tr>\n",
              "      <th>85</th>\n",
              "      <td>SriKanchaKantiDeviMandir</td>\n",
              "      <td>Religious Sites</td>\n",
              "    </tr>\n",
              "    <tr>\n",
              "      <th>86</th>\n",
              "      <td>RegionalScienceCenter</td>\n",
              "      <td>Educational sites</td>\n",
              "    </tr>\n",
              "    <tr>\n",
              "      <th>87</th>\n",
              "      <td>KazirangaNationalPark</td>\n",
              "      <td>National Parks</td>\n",
              "    </tr>\n",
              "    <tr>\n",
              "      <th>88</th>\n",
              "      <td>ISKCONGuwahati</td>\n",
              "      <td>Religious Sites</td>\n",
              "    </tr>\n",
              "    <tr>\n",
              "      <th>89</th>\n",
              "      <td>KachariFort</td>\n",
              "      <td>Historic Sites</td>\n",
              "    </tr>\n",
              "  </tbody>\n",
              "</table>\n",
              "<p>90 rows × 2 columns</p>\n",
              "</div>"
            ],
            "text/plain": [
              "                Tourist Places               Genre\n",
              "0               TirumalaTemple     Religious Sites\n",
              "1                   BorraCaves     Caverns & Caves\n",
              "2   INSKurusuraSubmarineMuseum  Speciality Museums\n",
              "3                  Kailasagiri               Parks\n",
              "4              RishikondaBeach             Beaches\n",
              "..                         ...                 ...\n",
              "85    SriKanchaKantiDeviMandir     Religious Sites\n",
              "86       RegionalScienceCenter   Educational sites\n",
              "87       KazirangaNationalPark      National Parks\n",
              "88              ISKCONGuwahati     Religious Sites\n",
              "89                 KachariFort      Historic Sites\n",
              "\n",
              "[90 rows x 2 columns]"
            ]
          },
          "metadata": {
            "tags": []
          },
          "execution_count": 238
        }
      ]
    }
  ]
}